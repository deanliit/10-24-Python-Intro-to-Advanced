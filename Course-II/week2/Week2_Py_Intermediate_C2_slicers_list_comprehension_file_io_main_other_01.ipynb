{
  "nbformat": 4,
  "nbformat_minor": 0,
  "metadata": {
    "colab": {
      "provenance": []
    },
    "kernelspec": {
      "name": "python3",
      "display_name": "Python 3"
    },
    "language_info": {
      "name": "python"
    }
  },
  "cells": [
    {
      "cell_type": "markdown",
      "source": [
        "#Python Course I - Weekly class demos and Exercises summary  \n",
        "- (Mon, Wed) - (8am-10:30am) - (2.5h class/demos/labs) / 30 min practice\n",
        "- Course II - 10 weeks\n",
        "\n",
        "#Github Course Notebook Refence\n",
        "\n",
        "https://github.com/deanliit/10-24-Python-Intro-to-Advanced\n",
        "\n",
        "#Weekly Topics\n",
        "- function summary\n",
        "- import\n",
        "- range, slicers, indees, list comprehension\n",
        "- file i/o\n",
        "- main startup program\n",
        "- module import - custom python modules\n",
        "- Error Handling\n",
        "- git/github\n",
        "- python data analysis\n",
        "- other\n",
        "\n",
        "#Weekly Homework , Class Assignment, Class Project\n",
        "- reccomended: Reading/review\n",
        "  - w3schools reference\n",
        "  - https://www.w3schools.com/python/\n",
        "    - comment, varibles, data types, casting, input, array, loop\n",
        "  - pdf ebook ref\n",
        "\n",
        "- practice labs\n",
        " - create intro python code using google colabs\n",
        "   - ie: print, markdown text\n",
        "   \n",
        "- exercises , course book pages\n",
        "- pages:\n",
        "   -\n",
        "\n",
        "## Python references\n",
        "https://www.w3schools.com/python/python_intro.asp\n",
        "- Course book\n",
        "\n",
        "### Class Quiz - Email link to google forms\n",
        "\n",
        "<pre>\n",
        "- 3 quizzes - similar to python entry level quiz\n",
        "- multiple choice\n",
        "- 6 multiple choice quesitons = 85%\n",
        "- 1 code fill-in question\n",
        "-- write code is vs.code - copy code in quiz\n",
        "-- small example program -- %15\n",
        "example: write a progarm to compute 2 values\n",
        "optional/extra: create a startup program\n",
        "input: prompt for each input\n",
        "output: display items and total\n",
        "hint:\n",
        "\n",
        "num1 = input(\"num2\")\n",
        "num2 = input(\"num2\")\n",
        "total = int(num1) + int(num2)\n",
        "print(\"total\", total)\n",
        "\n",
        "- take home\n",
        "- approx. 1 week to complete\n",
        "- quiz is similar question to python Entry Level Exam. Some question from Associate Exam\n",
        "- review quiz in class\n",
        "\n",
        "</pre>\n"
      ],
      "metadata": {
        "id": "kkf01IuMAr4_"
      }
    },
    {
      "cell_type": "code",
      "source": [
        "\"\"\" C1 - Quiz review \"\"\"\n",
        "##---------------------------\n",
        "\n",
        "#questions 1\n",
        "\n",
        "list1 = [-1, -5, -3, -10, 1 , 4]\n",
        "tuple1 = (-1, -5, -3, -10, 1 , 4)\n",
        "set1 = (-1, -5, -3, -10, 1 , 4)\n",
        "\n",
        "x = min(list1)\n",
        "#y = max(tuple1)\n",
        "y = max(set1)\n",
        "\n",
        "print(x,y)\n"
      ],
      "metadata": {
        "colab": {
          "base_uri": "https://localhost:8080/"
        },
        "id": "bWUxTZO1hgYW",
        "outputId": "7d7be851-8dd7-46c9-a4a4-4922685913c0"
      },
      "execution_count": 3,
      "outputs": [
        {
          "output_type": "stream",
          "name": "stdout",
          "text": [
            "-10 4\n"
          ]
        }
      ]
    },
    {
      "cell_type": "code",
      "source": [
        "#question #2\n",
        "\n",
        "items = (1,1.3,2,3.8,10)\n",
        "#items[1] = 1.5 #TypeError - not updatablse\n",
        "print(items[1])\n"
      ],
      "metadata": {
        "colab": {
          "base_uri": "https://localhost:8080/"
        },
        "id": "j_s1UWVxnnxt",
        "outputId": "479664dd-ffb5-4576-b7dc-220ee7ebe959"
      },
      "execution_count": 6,
      "outputs": [
        {
          "output_type": "stream",
          "name": "stdout",
          "text": [
            "1.3\n"
          ]
        }
      ]
    },
    {
      "cell_type": "code",
      "source": [
        "#question #5\n",
        "\n",
        "#indexers  = range\n",
        "#[start:stop:skip]\n",
        "#- stop 1 before the end of index ie: 5 = 5-1\n",
        "\n",
        "#example\n",
        "items = (1,1.3,2.4,5.0,7.0)\n",
        "\n",
        "print(items[-3:-1])\n",
        "#for i in range(-3,-1)\n",
        "\n",
        "print(items[1:3])\n",
        "#for i in range(1,3)\n",
        "\n",
        "print(items[3:])\n",
        "#for i in range(3,5)\n"
      ],
      "metadata": {
        "colab": {
          "base_uri": "https://localhost:8080/"
        },
        "id": "XnoIOZQwn8TK",
        "outputId": "1a25a92e-e278-4b4f-aa0e-4db2bd67b9fa"
      },
      "execution_count": 7,
      "outputs": [
        {
          "output_type": "stream",
          "name": "stdout",
          "text": [
            "(2.4, 5.0)\n",
            "(1.3, 2.4)\n",
            "(5.0, 7.0)\n"
          ]
        }
      ]
    },
    {
      "cell_type": "code",
      "source": [
        "#question #5\n",
        "\n",
        "#while loop - can produce an endless loop\n",
        "#while loop exit condition\n",
        "\n",
        "i = 1\n",
        "while i < 6:\n",
        "  print(i)\n",
        "  if (i == 3):\n",
        "    break\n",
        "  i += 1\n"
      ],
      "metadata": {
        "colab": {
          "base_uri": "https://localhost:8080/"
        },
        "id": "GFjedgj7nwek",
        "outputId": "79104ce4-605e-427f-a4cf-e9d62a4438eb"
      },
      "execution_count": 9,
      "outputs": [
        {
          "output_type": "stream",
          "name": "stdout",
          "text": [
            "1\n",
            "2\n",
            "3\n"
          ]
        }
      ]
    },
    {
      "cell_type": "code",
      "source": [
        "#qustion #6\n",
        "\n",
        "def display(name=\"item1\"):\n",
        "  print(\"name, \" + str(name))\n",
        "\n",
        "display(\"\")\n",
        "display(\"value1\")\n",
        "display(None)\n"
      ],
      "metadata": {
        "colab": {
          "base_uri": "https://localhost:8080/"
        },
        "id": "ANiASAxOp_OI",
        "outputId": "064c1bb0-70f9-4e30-f4a9-9fa4a282375f"
      },
      "execution_count": 14,
      "outputs": [
        {
          "output_type": "stream",
          "name": "stdout",
          "text": [
            "name, \n",
            "name, value1\n",
            "name, None\n"
          ]
        }
      ]
    },
    {
      "cell_type": "code",
      "source": [
        "#compute total example\n",
        "\n",
        "items = [1.5, 9.2, 105, 78.1, 2, 23]\n",
        "\n",
        "def calc_total_1():\n",
        "  _total = 0.0\n",
        "  for item in items:\n",
        "    _total += float(item)\n",
        "  return _total\n",
        "\n",
        "def calc_total_2(items_list):\n",
        "  _total = 0.0\n",
        "  for item in items_list:\n",
        "    _total += float(item)\n",
        "  return _total\n",
        "\n",
        "def calc_total_3(items_list):\n",
        "  _total = 0.0\n",
        "  #list comprehension rturn a list - ie: filtering list, or nested lists\n",
        "  _list1 = [item for item in items_list]\n",
        "\n",
        "  for item in _list1:\n",
        "    _total += float(item)\n",
        "\n",
        "  return _total\n",
        "\n",
        "def calc_total_4(items_list):\n",
        "  _total = 0.0\n",
        "  #list comprehension rturn a list - ie: filtering list, or nested lists\n",
        "  _list1 = [item for item in items_list]\n",
        "  _total = sum(_list1)\n",
        "  return _total\n",
        "\n",
        "def calc_total_5(items_list):\n",
        "  _total = 0.0\n",
        "  #list comprehension rturn a list - ie: filtering list, or nested lists\n",
        "  _total = sum([item for item in items_list])\n",
        "\n",
        "  return _total\n",
        "\n",
        "\n",
        "_total_1 = calc_total_1()\n",
        "_total_2 = calc_total_2(items)\n",
        "\n",
        "print(\"total_1\",_total_1)\n",
        "print(\"total_2\",_total_2)\n"
      ],
      "metadata": {
        "id": "22sMuZwAsZI7"
      },
      "execution_count": null,
      "outputs": []
    },
    {
      "cell_type": "markdown",
      "source": [
        "<pre>\n",
        "\n",
        "---------------------------------------------\n",
        "#Course II Module Summary\n",
        "-----------------------------------------------\n",
        "\n",
        "https://www.w3schools.com/python/python_intro.asp\n",
        "\n",
        "# Module 1\n",
        "---------------------------\n",
        "File/IO\n",
        "Slicers, Slicing\n",
        "List Comprehension\n",
        "Main method\n",
        "Error Handling\n",
        "Module import\n",
        "Git/github\n",
        "Other\n",
        "\n",
        "# Module 2\n",
        "----------------------------\n",
        "Intro to data analyst using python\n",
        "Pandas, numpy\n",
        "SQL\n",
        "\n",
        "# Module 3\n",
        "--------------------------------\n",
        "Object Oriented Programming, Classes\n",
        "Functional Programming\n",
        "Lamda\n",
        "Other\n",
        "\n",
        "#Module 4\n",
        "---------------------------------\n",
        "HTML - CSS - JavaScript\n",
        "Screen scaping, search bots - Beautifulsoup library\n",
        "AI/ML - Machine learning\n",
        "NLP - Natural Language Processing\n",
        "\n",
        "#Module 5\n",
        "--------------------------------\n",
        "Python exam review - pcep, pcap\n",
        "\n",
        "</pre>"
      ],
      "metadata": {
        "id": "lhHzTF-3wluD"
      }
    },
    {
      "cell_type": "code",
      "source": [
        "\"\"\"\n",
        "functions, return, parameters, default parameters\n",
        "import, date\n",
        "range, slicers, list comprehension\n",
        "min, max\n",
        "file i/o\n",
        "other\n",
        "\"\"\"\n"
      ],
      "metadata": {
        "id": "8vCXTpZ90Apf"
      },
      "execution_count": null,
      "outputs": []
    },
    {
      "cell_type": "code",
      "source": [
        "#functions-demo-1.py\n",
        "#functions, return, parameters, default parameters\n",
        "#https://www.w3schools.com/python/python_functions.asp\n",
        "\"\"\"\n",
        "functions:\n",
        "giving a group of code statement/code blocks a name\n",
        "as you write more larger application you can optimizae code into functions\n",
        "- mainly used to refactor repeated code, simplify/reduct large code blocks\n",
        "- for code re-use\n",
        "- example: if code block is > 20 lines of code\n",
        "- fucntions\n",
        "- can have input parameters\n",
        "- can have default parameters\n",
        "- return data\n",
        "\"\"\"\n",
        "\n",
        "def funct1():\n",
        "  print(\"code statment\") #no input parameter\n",
        "  #any valid pyhton code\n",
        "\n",
        "def funct2(param1):\n",
        "  print(\"code statment: \", param1)  #parameter can be any valid data type\n",
        "  #any valid pyhton code\n",
        "\n",
        "def funct3(param1, param2):\n",
        "  print(\"code statment: \", param1, param2) #parameter can be any valid data type\n",
        "  #any valid pyhton code\n",
        "\n",
        "def funct4(param1, param2, param3):\n",
        "  print(\"code statment: \", param1, param2, param3) #parameter can be any valid data type\n",
        "  #any valid pyhton code\n",
        "  return (param1 + param2 + param3)\n",
        "\n",
        "#call a fucntions\n",
        "funct1()\n",
        "funct2(1)\n",
        "funct3(2,3)\n",
        "total = funct4(4,5,6)\n",
        "print(\"total: \", total)\n",
        "\n",
        "\n"
      ],
      "metadata": {
        "colab": {
          "base_uri": "https://localhost:8080/"
        },
        "id": "RKT6vSGU0UyF",
        "outputId": "422bb6ec-7a2e-4ec7-b56b-6dda3db407f7"
      },
      "execution_count": null,
      "outputs": [
        {
          "output_type": "stream",
          "name": "stdout",
          "text": [
            "code statment\n",
            "code statment:  1\n",
            "code statment:  2 3\n",
            "code statment:  4 5 6\n",
            "total:  15\n"
          ]
        }
      ]
    },
    {
      "cell_type": "code",
      "source": [
        "#functions-demo-2\".py\n",
        "#functions, return, parameters, default parameters\n",
        "#https://www.w3schools.com/python/python_functions.asp\n",
        "\n",
        "#default parameters\n",
        "def functa(param1=\"a\"):\n",
        "  print(\"code statment\", param1) #no input parameter\n",
        "  #any valid pyhton code\n",
        "\n",
        "functa()\n",
        "functa(\"\")\n",
        "functa(None)\n",
        "functa(\"1\")\n",
        "functa(2)\n"
      ],
      "metadata": {
        "colab": {
          "base_uri": "https://localhost:8080/"
        },
        "id": "QadOao3V5rOm",
        "outputId": "51c312d9-6fdb-4115-ee16-a6f265112dc3"
      },
      "execution_count": null,
      "outputs": [
        {
          "output_type": "stream",
          "name": "stdout",
          "text": [
            "code statment a\n",
            "code statment \n",
            "code statment None\n",
            "code statment 1\n",
            "code statment 2\n"
          ]
        }
      ]
    },
    {
      "cell_type": "code",
      "source": [
        "#providing a default parameter makes the paramater optional\n",
        "def functa(param1=1, param2=2):\n",
        "  print(\"codea statment: \", param1,\",\", param2)\n",
        "  #any valid pyhton code\n",
        "\n",
        "#param1 is required because parameter 2 and 3 are optional\n",
        "def functb(param1, param2=2, param3=3):\n",
        "  print(\"codeb statment: \", param1,\",\", param2, param3)\n",
        "  #any valid pyhton code\n",
        "\n",
        "#default praameter error\n",
        "#last pramater must not be null if pervious default paramaters defined\n",
        "#def functc(param1=1, param2=2, param3):\n",
        "def functc(param1=1, param2=2, param3=3):\n",
        "  print(\"codec statment: \", param1,\",\", param2)\n",
        "  #any valid pyhton code\n",
        "\n",
        "functa()\n",
        "functa(\"\")\n",
        "functa(None)\n",
        "functa(5)\n",
        "\n",
        "print()\n",
        "#functb() #error\n",
        "#functb(\"a\",,) #error\n",
        "functb(\"a\",\"b\",)\n"
      ],
      "metadata": {
        "colab": {
          "base_uri": "https://localhost:8080/"
        },
        "id": "D-r40yTpARYe",
        "outputId": "157618bc-7d27-438f-d359-2859efce49ac"
      },
      "execution_count": null,
      "outputs": [
        {
          "output_type": "stream",
          "name": "stdout",
          "text": [
            "codea statment:  1 , 2\n",
            "codea statment:   , 2\n",
            "codea statment:  None , 2\n",
            "codea statment:  5 , 2\n",
            "\n",
            "codeb statment:  a , b 3\n"
          ]
        }
      ]
    },
    {
      "cell_type": "code",
      "source": [
        "#multi parameters, ie: mult argument paramaters\n",
        "\n",
        "def functa(*args):\n",
        "  print(\"*args len: \", len(args))\n",
        "  print(\"codea statment: \", args[0])\n",
        "  #loop though args\n",
        "  #any valid pyhton code\n",
        "\n",
        "#**args = dict\n",
        "def functb(**args):\n",
        "  print(\"*args = dict len: \", len(args))\n",
        "  print(\"codea statment: \", args[\"a1\"])\n",
        "  #loop though args\n",
        "  #any valid pyhton code\n",
        "\n",
        "def functc(args):\n",
        "  print(\"collection args len: \", len(args))\n",
        "  print(\"codea statment: \", args[0])\n",
        "  #loop though args\n",
        "  #any valid pyhton code\n",
        "\n",
        "functa(\"a\",\"b\",\"c\",1)\n",
        "print()\n",
        "#key = variable\n",
        "functb(a1=1,b1=2,c1=3,d1=1)\n",
        "print()\n",
        "#functc(\"a\",\"b\",\"c\",1) #error\n",
        "functc((\"a\",\"b\",\"c\",1))\n"
      ],
      "metadata": {
        "colab": {
          "base_uri": "https://localhost:8080/"
        },
        "id": "Rb_ZexqLE-yO",
        "outputId": "e3520b6a-2321-40ce-f81d-26989d735016"
      },
      "execution_count": null,
      "outputs": [
        {
          "output_type": "stream",
          "name": "stdout",
          "text": [
            "*args len:  4\n",
            "codea statment:  a\n",
            "\n",
            "*args = dict len:  4\n",
            "codea statment:  1\n",
            "\n",
            "collection args len:  4\n",
            "codea statment:  a\n"
          ]
        }
      ]
    },
    {
      "cell_type": "code",
      "source": [
        "#import statement\n",
        "#include addition codes libraries as requried from python or other companies\n",
        "#sometimes will install additional libraries before importing\n",
        "\n",
        "#built in additional pyhon library to retieve system date/time\n",
        "import datetime\n",
        "\n",
        "#use library\n",
        "#from datatime library documentaion\n",
        "#https://www.w3schools.com/python/python_datetime.asp\n",
        "_date_time = datetime.datetime.now() #retieve system date/time\n",
        "\n",
        "print(_date_time)\n",
        "print()\n",
        "print(\"month:\",_date_time.month)\n",
        "print(\"day:\",_date_time.day)\n",
        "print(\"year:\",_date_time.year)\n",
        "print()\n",
        "print(\"hour:\",_date_time.hour)\n",
        "print(\"min:\",_date_time.minute)\n",
        "print()\n",
        "print(_date_time.strftime(\"%d/%m/%y\"))\n",
        "print(_date_time.strftime(\"%H:%M\"))\n",
        "\n",
        "#build-in function whihc yiou do not have to inport\n",
        "#sum,print,min,max, other\n",
        "\n",
        "\n"
      ],
      "metadata": {
        "colab": {
          "base_uri": "https://localhost:8080/"
        },
        "id": "szTfq-xAI5up",
        "outputId": "6e47e6fc-7bc6-4069-b974-297363364635"
      },
      "execution_count": null,
      "outputs": [
        {
          "output_type": "stream",
          "name": "stdout",
          "text": [
            "2024-12-04 15:06:56.917146\n",
            "\n",
            "month: 12\n",
            "day: 4\n",
            "year: 2024\n",
            "\n",
            "hour: 15\n",
            "min: 6\n",
            "\n",
            "04/12/24\n",
            "15:06\n"
          ]
        }
      ]
    },
    {
      "cell_type": "code",
      "source": [
        "#non-import libraries/functions or global python libraries/functions\n",
        "#print, max, min,\n",
        "\n",
        "#import\n",
        "# python standard libary - datetiime, random, other\n",
        "\n",
        "#external libraries developed by other companies\n",
        "#install external libraries\n",
        "#pip install library-name\n",
        "\n",
        "#module import\n",
        "#- create your own python libraries that other programs csn import\n",
        "#- ie: custom libraeies\n",
        "#\n",
        "\n",
        "#\n",
        "#- python build/distrubution or package or bundle\n",
        "#-- when build and ship pythn applciation\n",
        "#-- python bundles only libraries that you import or install/pip\n",
        "#\n",
        "\n",
        "\n"
      ],
      "metadata": {
        "id": "BH6qgnDS1lg7"
      },
      "execution_count": null,
      "outputs": []
    },
    {
      "cell_type": "code",
      "source": [
        "#-------------------------------------------------------------------------\n",
        "# Course book - Become a python master - beginner examples summary\n",
        "# Course 1 sample applications\n",
        "#-------------------------------------------------------------------------\n",
        "#input, variables casting - exercise 7,8\n",
        "#functions - exercise 3, exercise 13. other\n",
        "#slicers, indexing\n",
        "#list comprehension: exercise 23, 25, 26\n",
        "#loop, while\n",
        "#if , exercise: 4\n",
        "#error handling ie: exercise 5\n",
        "#file i/o ie: exercise 5\n",
        "#collections: array, list, tuple, set, map\n",
        "#functional programming: sum, map\n",
        "#Other\n"
      ],
      "metadata": {
        "id": "fKLHLG6xsa0P"
      },
      "execution_count": null,
      "outputs": []
    },
    {
      "cell_type": "code",
      "source": [
        "#-------------------------------------------------------------------------\n",
        "# Course book - Become a python master - beginner examples summary\n",
        "# Course 2 sample applications\n",
        "#-------------------------------------------------------------------------\n",
        "# python main program\n",
        "# module import\n",
        "# error handling\n",
        "# Data analysis\n",
        "# Machine Learing\n",
        "# Html, web scraping\n",
        "# Other\n"
      ],
      "metadata": {
        "id": "gYHcAm4euP3I"
      },
      "execution_count": null,
      "outputs": []
    },
    {
      "cell_type": "code",
      "source": [
        "\"\"\"\n",
        "-function summary\n",
        "-import\n",
        "range, slicers, indees, list comprehension\n",
        "file i/o\n",
        "main startup program\n",
        "module import - custom python modules\n",
        "Error Handling\n",
        "git/github\n",
        "python data analysis\n",
        "other\n",
        "\n",
        "\"\"\""
      ],
      "metadata": {
        "id": "omYY-Jwi5l4k"
      },
      "execution_count": null,
      "outputs": []
    },
    {
      "cell_type": "code",
      "source": [
        "\"\"\"\n",
        "-----------------------------------\n",
        "Demo invoice systsm requirements\n",
        "- intermediate python program\n",
        "-----------------------------------\n",
        "\n",
        "white a program to calculate the sum of a list of numbers\n",
        "also read data from csv/json other\n",
        "\n",
        "display system datetime\n",
        "generate a random array\n",
        "python startrup program ie: c,c++,c#,java - main(string[])\n",
        "error handling\n",
        "custom module import\n",
        "file i/o\n",
        "function summary\n",
        "parameter argument when program start\n",
        "- console - non-graphical program ie: command line program\n",
        "- otther: graphical python programs - ie: desktop app or web app\n",
        "\n",
        "\"\"\"\n"
      ],
      "metadata": {
        "id": "V-wAnQji5u8Q"
      },
      "execution_count": null,
      "outputs": []
    },
    {
      "cell_type": "code",
      "source": [
        "#week1-invoice-app-1.py\n",
        "#main startup program\n",
        "\n",
        "\"\"\"\n",
        "complete pytyhon console appliction\n",
        "------------------------------------\n",
        "- bach processing or back office system ie: used at terminal or command prompt\n",
        "- data import, export - generating files, data analysis, other\n",
        "- modular development - seperate functions or files, oop, functional programming\n",
        "\n",
        "#more large scale application\n",
        "#add additional features ie:\n",
        "#oop, lamda, file-io, ETL, EDA, SQL\n",
        "#move code to seperate files - ie: modules/libaries\n",
        "\n",
        "-- --\n",
        "\n",
        "range, slicers, indexer, list comprehension\n",
        "file i/o\n",
        "main startup program\n",
        "module import - custom python modules\n",
        "Error Handling\n",
        "\n",
        "\"\"\"\n",
        "\n",
        "import datetime\n",
        "\n",
        "#input data - collection - array/list/tuple/set/map\n",
        "inv_data_1 = [89.34,78.23,54.24,33.324,14,123.29,31,26,51,23.12,123]\n",
        "\n",
        "#create randmon/sample data\n",
        "\n",
        "def calc_total():\n",
        "  total = 0.0\n",
        "  print(\"calcate total\")\n",
        "  return 0\n",
        "\n",
        "#python startrup program ie: c,c++,c#,java - main(string[])\n",
        "def main():\n",
        "  print(\"# Inoice System 1.0.0\")\n",
        "  print()\n",
        "  print(\"date:\")\n",
        "  print()\n",
        "  total = calc_total()\n",
        "  print(\"total: \", total)\n",
        "\n",
        "main()\n",
        "\n"
      ],
      "metadata": {
        "id": "HnO1t7Dd9_Tt",
        "colab": {
          "base_uri": "https://localhost:8080/"
        },
        "outputId": "d985649a-27b4-4b6f-b908-9b774f300ad3"
      },
      "execution_count": null,
      "outputs": [
        {
          "output_type": "stream",
          "name": "stdout",
          "text": [
            "# Inoice System 1.0.0\n",
            "\n",
            "date:\n",
            "\n",
            "calcate total\n",
            "total:  0\n"
          ]
        }
      ]
    },
    {
      "cell_type": "code",
      "source": [
        "#week1-invoice-app-1-1.py\n",
        "\n",
        "\"\"\"\n",
        "-- --\n",
        "\n",
        "range, slicers, indexer, list comprehension\n",
        "file i/o\n",
        "main startup program\n",
        "module import - custom python modules\n",
        "Error Handling\n",
        "\n",
        "\"\"\"\n",
        "\n",
        "import datetime\n",
        "\n",
        "#input data - collection - array/list/tuple/set/map\n",
        "inv_data_1 = [89.34,78.23,54.24,33.324,14,123.29,31,26,51,23.12,123]\n",
        "\n",
        "#create randmon/sample data\n",
        "\n",
        "def calc_total():\n",
        "  total = 0.0\n",
        "  print(\"calcate total\")\n",
        "  return 0\n",
        "\n",
        "def main():\n",
        "  print(\"# Inoice System 1.0.1\")\n",
        "  print()\n",
        "  print(\"date:\")\n",
        "  print()\n",
        "  total = calc_total()\n",
        "  print(\"total: \", total)\n",
        "\n",
        "\"\"\"\n",
        "__name__\n",
        "  - built in python variable\n",
        "  - auto updated by python\n",
        "  - populate __name__ to either __main__ or __module__\n",
        "  - __main__ = current file is not being imported\n",
        "  - __module__ = current file is being imported\n",
        "\n",
        "\"\"\"\n",
        "\n",
        "#python startrup program ie: c,c++,c#,java - main(string[])\n",
        "if __name__ == \"__main__\":\n",
        "  main()\n",
        "\n"
      ],
      "metadata": {
        "colab": {
          "base_uri": "https://localhost:8080/"
        },
        "id": "tY0X7K5QDjz1",
        "outputId": "c08ba39c-ea6a-45c1-f00e-643669f9c54e"
      },
      "execution_count": null,
      "outputs": [
        {
          "output_type": "stream",
          "name": "stdout",
          "text": [
            "# Inoice System 1.0.0\n",
            "\n",
            "date:\n",
            "\n",
            "calcate total\n",
            "total:  0\n"
          ]
        }
      ]
    },
    {
      "cell_type": "code",
      "source": [
        "#week2-invoice-app-1-0.py\n",
        "\n",
        "\"\"\"\n",
        "-range, slicers, indexer, list comprehension\n",
        "-main startup program\n",
        "file i/o\n",
        "module import - custom python modules\n",
        "Error Handling\n",
        "paramater input on proram startup\n",
        "\n",
        "\"\"\"\n",
        "\n",
        "import datetime\n",
        "import sys #python system library\n",
        "\n",
        "#input data - collection - array/list/tuple/set/map\n",
        "inv_data_1 = [89.34,78.23,54.24,33.324,14,123.29,31,26,51,23.12,123]\n",
        "\n",
        "#create randmon/sample data\n",
        "\n",
        "def calc_total():\n",
        "  _total = 0.0\n",
        "  #while\n",
        "  \"\"\"\n",
        "  for item in inv_data_1:\n",
        "      _total += item\n",
        "  \"\"\"\n",
        "  #list comprehension\n",
        "  _items_list = [item for item in inv_data_1]\n",
        "  #optimization: funcional programming\n",
        "  _total = sum(_items_list)\n",
        "\n",
        "  print(\"calcate total\")\n",
        "  return _total\n",
        "\n",
        "def main():\n",
        "\n",
        "  #--console or terminal pograms--\n",
        "  #retrieve input from cammand line when out program is ran\n",
        "  #paramater input on proram startup\n",
        "  #example: program.py user1 email1@gmail.com\n",
        "\n",
        "  #username = \"userone\" #input(\"username:\")\n",
        "  #email = \"userone@email.com\" #input(\"email:\")\n",
        "\n",
        "  #python week2-invoice-app-1-0.py  user1 user1@gmail.com\n",
        "  print(\"file_name: \",sys.argv[0])\n",
        "  username = sys.argv[1]\n",
        "  email = sys.argv[2]\n",
        "\n",
        "  print(\"# Inoice System 1.0.3\")\n",
        "  print()\n",
        "  print(\"date:\",\" \", username, \" \", email)\n",
        "  print()\n",
        "  _total = calc_total()\n",
        "  print(\"total: \", _total)\n",
        "\n",
        "if __name__ == \"__main__\":\n",
        "  main()\n",
        "\n"
      ],
      "metadata": {
        "colab": {
          "base_uri": "https://localhost:8080/"
        },
        "id": "zoJpL8iUHxoY",
        "outputId": "784e8596-5621-4c5a-eb10-7b4f7a5ab13f"
      },
      "execution_count": null,
      "outputs": [
        {
          "output_type": "stream",
          "name": "stdout",
          "text": [
            "# Inoice System 1.0.2\n",
            "\n",
            "date:   userone   userone@email.com\n",
            "\n",
            "calcate total\n",
            "total:  646.544\n"
          ]
        }
      ]
    },
    {
      "cell_type": "code",
      "source": [
        "#week2-invoice-app-1-1.py\n",
        "\n",
        "\"\"\"\n",
        "-range, slicers, indexer, list comprehension\n",
        "-main startup program\n",
        "-paramater input on proram startup\n",
        "-Error Handling\n",
        "file i/o\n",
        "module import - custom python modules\n",
        "\n",
        "\"\"\"\n",
        "\n",
        "import datetime\n",
        "import sys #python system library\n",
        "\n",
        "#input data - collection - array/list/tuple/set/map\n",
        "inv_data_1 = [89.34,78.23,54.24,33.324,14,123.29,31,26,51,23.12,123]\n",
        "\n",
        "#create randmon/sample data\n",
        "\n",
        "def calc_total():\n",
        "  _total = 0.0\n",
        "  _total = sum([item for item in inv_data_1])\n",
        "  return _total\n",
        "\n",
        "def main():\n",
        "\n",
        "  #try/except - prevent code exit or code termination - by retieveing program errors/exceptions\n",
        "\n",
        "  try:\n",
        "\n",
        "    #print(\"file_name: \",sys.argv[0])\n",
        "    username = sys.argv[1]\n",
        "    email = sys.argv[2]\n",
        "\n",
        "    print(\"# Inoice System 1.0.3\")\n",
        "    print()\n",
        "    print(\"date:\",\" \", username, \" \", email)\n",
        "    print()\n",
        "    _total = calc_total()\n",
        "    print(\"total: \", _total)\n",
        "\n",
        "  #retieve any type of error - Exception most generic/general error\n",
        "  except Exception as error:\n",
        "    print(\"program error\")\n",
        "    print(error)\n",
        "\n",
        "if __name__ == \"__main__\":\n",
        "  main()\n",
        "\n"
      ],
      "metadata": {
        "id": "iT9yaNLs-nzt"
      },
      "execution_count": null,
      "outputs": []
    },
    {
      "cell_type": "code",
      "source": [
        "#week2-invoice-app-1-0.py\n",
        "\n",
        "\"\"\"\n",
        "-range, slicers, indexer, list comprehension\n",
        "-main startup program\n",
        "file i/o\n",
        "module import - custom python modules\n",
        "Error Handling\n",
        "paramater input on proram startup\n",
        "\n",
        "\"\"\"\n",
        "\n",
        "import datetime\n",
        "\n",
        "#input data - collection - array/list/tuple/set/map\n",
        "inv_data_1 = [89.34,78.23,54.24,33.324,14,123.29,31,26,51,23.12,123]\n",
        "\n",
        "#create randmon/sample data\n",
        "\n",
        "def calc_total():\n",
        "  _total = 0.0\n",
        "  #while\n",
        "  \"\"\"\n",
        "  for item in inv_data_1:\n",
        "      _total += item\n",
        "  \"\"\"\n",
        "  #list comprehension\n",
        "  _items_list = [item for item in inv_data_1]\n",
        "  #optimization: funcional programming\n",
        "  _total = sum(_items_list)\n",
        "\n",
        "  print(\"calcate total\")\n",
        "  return _total\n",
        "\n",
        "def main():\n",
        "\n",
        "  username = \"userone\" #input(\"username:\")\n",
        "  email = \"userone@email.com\" #input(\"email:\")\n",
        "\n",
        "  print(\"# Inoice System 1.0.3\")\n",
        "  print()\n",
        "  print(\"date:\",\" \", username, \" \", email)\n",
        "  print()\n",
        "  _total = calc_total()\n",
        "  print(\"total: \", _total)\n",
        "\n",
        "if __name__ == \"__main__\":\n",
        "  main()\n",
        "\n"
      ],
      "metadata": {
        "colab": {
          "base_uri": "https://localhost:8080/"
        },
        "id": "B81rEKGWQsWy",
        "outputId": "a97329d6-c873-4bc2-b6fa-4d906a8c4a65"
      },
      "execution_count": null,
      "outputs": [
        {
          "output_type": "stream",
          "name": "stdout",
          "text": [
            "# Inoice System 1.0.3\n",
            "\n",
            "date:   userone   userone@email.com\n",
            "\n",
            "calcate total\n",
            "total:  646.544\n"
          ]
        }
      ]
    }
  ]
}