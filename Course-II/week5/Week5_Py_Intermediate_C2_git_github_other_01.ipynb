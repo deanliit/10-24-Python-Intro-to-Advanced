{
  "nbformat": 4,
  "nbformat_minor": 0,
  "metadata": {
    "colab": {
      "provenance": []
    },
    "kernelspec": {
      "name": "python3",
      "display_name": "Python 3"
    },
    "language_info": {
      "name": "python"
    }
  },
  "cells": [
    {
      "cell_type": "markdown",
      "source": [
        "#Python Course I - Weekly class demos and Exercises summary  \n",
        "- (Mon, Wed) - (8am-10:30am) - (2.5h class/demos/labs) / 30 min practice\n",
        "- Course II - 10 weeks\n",
        "\n",
        "#Github Course Notebook Refence\n",
        "\n",
        "https://github.com/deanliit/10-24-Python-Intro-to-Advanced\n",
        "\n",
        "#All Weekly Topics\n",
        "- function summary\n",
        "- import\n",
        "- range, slicers, indixes, list comprehension\n",
        "- file i/o\n",
        "- main startup program\n",
        "- Error Handling\n",
        "- module import - custom python modules\n",
        "- git/github\n",
        "- sql database\n",
        "- python data analysis - big data - pandas\n",
        "- object oriented programming\n",
        "- functional programming - lamda\n",
        "- html - python screen scraping\n",
        "- machine learning using python\n",
        "- python example review  - pyhon PCEP, PCAP\n",
        "- other\n",
        "\n",
        "#Current Weekly Topics\n",
        "- git/github\n",
        "- sql database\n",
        "- other\n",
        "\n",
        "#Weekly Homework , Class Assignment, Class Project\n",
        "- reccomended: Reading/review\n",
        "  - w3schools reference\n",
        "  - pdf ebook ref\n",
        "\n",
        "- practice labs\n",
        "  - google classroom proacice labs\n",
        "  - exercises from course book\n",
        "\n",
        "\n",
        "## Python references\n",
        "https://www.w3schools.com/python/python_intro.asp\n",
        "- Course book\n",
        "\n",
        "### Class Quiz - Email link to google forms\n",
        "\n",
        "<pre>\n",
        "- 3 quizzes - similar to python entry level quiz\n",
        "- multiple choice\n",
        "- 6 multiple choice quesitons = 85%\n",
        "- 1 code fill-in question\n",
        "-- write code is vs.code - copy code in quiz\n",
        "-- small example program -- %15\n",
        "example: write a progarm to compute 2 values\n",
        "optional/extra: create a startup program\n",
        "input: prompt for each input\n",
        "output: display items and total\n",
        "hint:\n",
        "\n",
        "num1 = input(\"num2\")\n",
        "num2 = input(\"num2\")\n",
        "total = int(num1) + int(num2)\n",
        "print(\"total\", total)\n",
        "\n",
        "- take home\n",
        "- approx. 1 week to complete\n",
        "- quiz is similar question to python Entry Level Exam. Some question from Associate Exam\n",
        "- review quiz in class\n",
        "\n",
        "</pre>\n"
      ],
      "metadata": {
        "id": "kkf01IuMAr4_"
      }
    },
    {
      "cell_type": "markdown",
      "source": [
        "<pre>\n",
        "\n",
        "---------------------------------------------\n",
        "#Course II Module Summary\n",
        "-----------------------------------------------\n",
        "\n",
        "https://www.w3schools.com/python/python_intro.asp\n",
        "\n",
        "# Module 1\n",
        "---------------------------\n",
        "File/IO\n",
        "Slicers, Slicing\n",
        "List Comprehension\n",
        "Main method\n",
        "Error Handling\n",
        "Module import\n",
        "Git/github\n",
        "Other\n",
        "\n",
        "# Module 2\n",
        "----------------------------\n",
        "Intro to data analyst using python\n",
        "Pandas, numpy\n",
        "SQL\n",
        "\n",
        "# Module 3\n",
        "--------------------------------\n",
        "Object Oriented Programming, Classes\n",
        "Functional Programming\n",
        "Lamda\n",
        "Other\n",
        "\n",
        "#Module 4\n",
        "---------------------------------\n",
        "HTML - CSS - JavaScript\n",
        "Screen scaping, search bots - Beautifulsoup library\n",
        "AI/ML - Machine learning\n",
        "NLP - Natural Language Processing\n",
        "\n",
        "#Module 5\n",
        "--------------------------------\n",
        "Python exam review - pcep, pcap\n",
        "\n",
        "</pre>"
      ],
      "metadata": {
        "id": "lhHzTF-3wluD"
      }
    },
    {
      "cell_type": "markdown",
      "source": [
        "## Introduction to Git/Github\n",
        "\n",
        "Introduction to git/github - used by 70%+ of industry\n",
        "\n",
        "- code repository\n",
        "- teams/developers can share code online\n",
        "- teams/developers modify same code without overwriting each others code\n",
        "- teams/developers - code collaboration\n",
        "- teams/developers - update code from command line\n",
        "\n",
        "https://www.w3schools.com/git/default.asp\n",
        "\n",
        "https://github.com\n",
        "  - online or command line\n",
        " - preview other code\n",
        " - download code\n",
        " - upload code\n",
        " - CRUD - create update and delete code online\n",
        "    - can preview or download other developer codes\n",
        "    - other developers code is readonly\n",
        "    - can not modify other developers code unless given permission by the other developers\n",
        "\n",
        "https://git-scm.com/downloads\n",
        " - download git command line tool\n",
        "\n",
        "- Branch - git folder which maintains complete history of all git branch content modifications.\n",
        "- git branch is a versioned history or snapshot of all modifications at a point in time.\n",
        "- preview branch history command line: git log\n",
        "\n",
        "- you can create many different versions of any branch\n",
        "\n",
        "- github repositories can not contain empty folders/directories\n",
        "- can add an empty file to a github repository folder/direcrtory\n",
        "\n",
        "Main Command line github code / terms\n",
        "- Repository or Repo - online code workspace ie: online root folder\n",
        "\n",
        "- git config --global user.name\n",
        "- git config --global user.email\n",
        "- git clone github-repo\n",
        "- git add\n",
        "- git commit\n",
        "- git push\n",
        "- git pull\n",
        "- git status\n",
        "- git log --oneline\n",
        "\n"
      ],
      "metadata": {
        "id": "orhoXmW0No9m"
      }
    },
    {
      "cell_type": "markdown",
      "source": [
        "#github manual demo\n",
        "- create repository - public, private\n",
        "- create file/folders\n",
        "- download code\n",
        "- preview file revision history\n",
        "- update, delete files\n",
        "- clone code\n",
        "\n"
      ],
      "metadata": {
        "id": "YIUyYZIpTJ0z"
      }
    },
    {
      "cell_type": "markdown",
      "source": [
        "#git command line demo\n",
        "- clone repository code\n",
        "- preview file revision history\n",
        "- update, delete files\n"
      ],
      "metadata": {
        "id": "jSEdridvTdCR"
      }
    },
    {
      "cell_type": "code",
      "source": [
        "#git/github demo 1\n",
        "#github-demo-1.py\n"
      ],
      "metadata": {
        "id": "StTIWzQlTBQE"
      },
      "execution_count": null,
      "outputs": []
    }
  ]
}