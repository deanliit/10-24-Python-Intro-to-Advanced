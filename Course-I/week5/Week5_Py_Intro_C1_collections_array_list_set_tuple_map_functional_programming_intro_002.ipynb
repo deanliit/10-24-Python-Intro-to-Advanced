{
  "nbformat": 4,
  "nbformat_minor": 0,
  "metadata": {
    "colab": {
      "provenance": []
    },
    "kernelspec": {
      "name": "python3",
      "display_name": "Python 3"
    },
    "language_info": {
      "name": "python"
    }
  },
  "cells": [
    {
      "cell_type": "markdown",
      "source": [
        "#Python Course I - Weekly class demos and Exercises summary  \n",
        "- (Mon, Wed) - (8am-10:30am) - (2.5h class/demos/labs) / 30 min practice\n",
        "- Course I - 7 weeks\n",
        "- Course II - 10 weeks\n",
        "\n",
        "#Github Course Notebook Refence\n",
        "\n",
        "https://github.com/deanliit/10-24-Python-Intro-to-Advanced\n",
        "\n",
        "#Weekly Topics\n",
        " - intro to google colab,\n",
        " - vs.code extensions\n",
        " array/list/collections,set,map/dict,tuple, loop, crud- create, update, delete, lookup, slicers, list comprehension\n",
        " - other\n",
        "\n",
        "#Weekly Homework , Class Assignment, Class Project\n",
        "- reccomended: Reading/review\n",
        "  - w3schools reference\n",
        "  - https://www.w3schools.com/python/\n",
        "    - comment, varibles, data types, casting, input, array, loop\n",
        "  - pdf ebook ref\n",
        "\n",
        "- practice labs\n",
        " - create intro python code using google colabs\n",
        "   - ie: print, markdown text\n",
        "   \n",
        "- exercises , course book pages\n",
        "- pages:\n",
        "   -\n",
        "\n",
        "## Python references\n",
        "https://www.w3schools.com/python/python_intro.asp\n",
        "- Course book\n",
        "\n",
        "### Class Quiz - Email link to google forms\n",
        "\n",
        "<pre>\n",
        "- 3 quizzes - similar to python entry level quiz\n",
        "- multiple choice\n",
        "- 6 multiple choice quesitons = 85%\n",
        "- 1 code fill-in question\n",
        "-- write code is vs.code - copy code in quiz\n",
        "-- small example program -- %15\n",
        "example: write a progarm to compute 2 values\n",
        "optional/extra: create a startup program\n",
        "input: prompt for each input\n",
        "output: display items and total\n",
        "hint:\n",
        "\n",
        "num1 = input(\"num2\")\n",
        "num2 = input(\"num2\")\n",
        "total = int(num1) + int(num2)\n",
        "print(\"total\", total)\n",
        "\n",
        "- take home\n",
        "- approx. 1 week to complete\n",
        "- quiz is similar question to python Entry Level Exam. Some question from Associate Exam\n",
        "- review quiz in class\n",
        "\n",
        "</pre>\n"
      ],
      "metadata": {
        "id": "kkf01IuMAr4_"
      }
    },
    {
      "cell_type": "markdown",
      "source": [
        "Introduction to Python Topic Summary\n",
        "- -------------------------------------------------------------\n",
        "\n",
        "Introduction to Python\n",
        "- https://www.w3schools.com/python/python_intro.asp\n",
        "\n",
        "# download python 3.x or latest\n",
        "- https://www.python.org/downloads/\n",
        "\n",
        "google colabs notebook introduction\n",
        "- similar to jypyter notebook\n",
        "- https://colab.research.google.com/\n",
        "\n",
        "vs.code - extension\n",
        "- code editor\n",
        "- https://code.visualstudio.com/download\n",
        "\n",
        "Pycharm\n",
        "- https://www.jetbrains.com/pycharm/download/?section=windows\n",
        "- code editor\n",
        "\n",
        "pyscripter\n",
        "- https://sourceforge.net/projects/pyscripter/\n",
        "- pre-install python with editor\n",
        "- run python 3+ in editor\n",
        "- install l=python libraries in the editor environment instead of local computer\n",
        "\n",
        "<pre>\n",
        "---------------------------------------------\n",
        "#Course I Module Summary\n",
        "-----------------------------------------------\n",
        "\n",
        "https://www.w3schools.com/python/python_intro.asp\n",
        "\n",
        "# Module 1\n",
        "---------------------------\n",
        "Python fundamentals\n",
        "Data type\n",
        "Variables\n",
        "Input\n",
        "for, while loop\n",
        "Other\n",
        "\n",
        "# Module 2\n",
        "----------------------------\n",
        "Array index\n",
        "Slicers, list comprehension  \n",
        "Functions\n",
        "File input\n",
        "Other\n",
        "\n",
        "# Module 3\n",
        "--------------------------------\n",
        "Data structures\n",
        "Array, set, list, tuple, map\n",
        "Classes\n",
        "Lamda\n",
        "Other\n",
        "\n",
        "#optional - Module 4\n",
        "---------------------------------\n",
        "Intro to data analyst using python\n",
        "Pandas, numpy\n",
        "SQL\n",
        "Other\n",
        "\n",
        "</pre>\n"
      ],
      "metadata": {
        "id": "eUoXWev-Au7k"
      }
    },
    {
      "cell_type": "markdown",
      "source": [
        "### Class demo practice exercies\n",
        "## programming fundamentals using python\n",
        "\n",
        "## program problem\n",
        "## systems/ program requirements\n",
        "\n",
        "<pre>\n",
        "#3. Write a program to compute total of ten invoice/inventory items.\n",
        "\n",
        "example:\n",
        "\n",
        "item1 -- ?\n",
        "item2 -- ?\n",
        "item3 -- ?\n",
        "item4 -- ?\n",
        "item5 -- ?\n",
        "item6 -- ?\n",
        "item7 -- ?\n",
        "item8 -- ?\n",
        "item9 -- ?\n",
        "item10 -- ?\n",
        "\n",
        "total ???\n",
        "\n",
        "--------------------------\n",
        "\n",
        "</pre>\n",
        "\n",
        "### reccomended steps in\n",
        "### Building a beginner progam\n",
        "\n",
        "- memory varibles\n",
        "- input\n",
        "- output\n",
        "- calculations\n",
        "- convert/cast data type\n",
        "- decisions\n",
        "- looping\n"
      ],
      "metadata": {
        "id": "F7AQ7yjpiElH"
      }
    },
    {
      "cell_type": "code",
      "source": [
        "#collection, python code statemens, code block summary\n",
        "\n",
        "\"\"\"\n",
        "array/list = [1,2,3,3] #can contain duplicate\n",
        "tuple = (1,2,3,3) #read-only\n",
        "set = {1,2,3} # non  duplicate\n",
        "dict = {k1:1,k2:2,item3:3} #key , non duplicate\n",
        "\n",
        "len - length of collection\n",
        "index , begin:0, end len-1\n",
        "CRUD - create, update, delete\n",
        "retieve items via index\n",
        "looking if item exits in collection\n",
        "\n",
        "python code statement, ends with a colan:\n",
        "  indentation\n",
        "\n",
        "-------------------------------------------\n",
        "\n",
        "for var in collection:\n",
        "  code block\n",
        "  code block\n",
        "\n",
        "other languages\n",
        "----------------------\n",
        "\n",
        "for var in collection {\n",
        "  code block\n",
        "  code block\n",
        "}\n",
        "\n",
        "\n",
        "common code block error\n",
        "==================================\n",
        "colon at end of statement :\n",
        "indentation\n",
        "can hev nested code block\n",
        "\n",
        "\n",
        "example nested code block\n",
        "----------------------------------\n",
        "\n",
        "for var in collection:\n",
        "  code block\n",
        "  code block\n",
        "  for var in collection:\n",
        "    code block\n",
        "    code block\n",
        "\n",
        "-or-\n",
        "\n",
        "for var in collection:\n",
        "  code block\n",
        "  code block\n",
        "  for var in collection:\n",
        "    code block\n",
        "    code block\n",
        "        for var in collection:\n",
        "          code block\n",
        "          code block\n",
        "\n",
        "\n",
        "-or-\n",
        "\n",
        "for var in collection:\n",
        "  code block\n",
        "  code block\n",
        "  for var in collection:\n",
        "    code block\n",
        "    code block\n",
        "  for var in collection:\n",
        "    code block\n",
        "    code block\n",
        "      for var in collection:\n",
        "        code block\n",
        "        code block\n",
        "\n",
        "//--------------------------------------------------\n",
        "\n",
        "##-- refactor for loop - list comprehension --  ##\n",
        "\n",
        "## list comprehension -- condence nested for loop ##\n",
        "\n",
        "[for itema in list]\n",
        "\n",
        "[for itema in list [for itemb in list]]\n",
        "\n",
        "--or--\n",
        "\n",
        "[for itema in list [for itemb in list] [for itemc in list]]\n",
        "\n",
        "\"\"\""
      ],
      "metadata": {
        "id": "zy8zybTRBOyz"
      },
      "execution_count": null,
      "outputs": []
    },
    {
      "cell_type": "code",
      "source": [
        "#week4-inv-app-demo-1.py\n",
        "\n",
        "num1 = 1.5\n",
        "num2 = 2\n",
        "num3 = 3.1\n",
        "num4 = 4\n",
        "num5 = 5\n",
        "num6 = 6.2\n",
        "num7 = 7\n",
        "num8 = 8.1\n",
        "num9 = 9\n",
        "num10 = 10.2\n",
        "\n",
        "#- if 20+ number, in-efficient to create many variables\n",
        "\n",
        "#-can use input to retrieve values\n",
        "#-cast to int or float required\n",
        "\n",
        "total = num1 + num2 + num3 + num4 + num5 + num6 + num7 + num8 + num9 + num10\n",
        "\n",
        "#print(f\"total: {total}\")\n",
        "print(f\"total: {round(total,2)}\")\n"
      ],
      "metadata": {
        "colab": {
          "base_uri": "https://localhost:8080/"
        },
        "id": "KiwX6YmQ85BZ",
        "outputId": "9b53627d-b63e-4374-99e6-565c66d2d163"
      },
      "execution_count": null,
      "outputs": [
        {
          "output_type": "stream",
          "name": "stdout",
          "text": [
            "total: 56.1\n"
          ]
        }
      ]
    },
    {
      "cell_type": "code",
      "source": [
        "#week4-inv-app-demo-2.py\n",
        "\n",
        "#- if 20+ number, in-efficient to create many variables\n",
        "\n",
        "\"\"\"\n",
        "\n",
        "optimizing program, or refactoring program:\n",
        "more efficient way of writing program\n",
        "store 10 item in a array\n",
        "\n",
        "https://www.w3schools.com/python/python_arrays.asp\n",
        "\n",
        "array = sequence/collection of [same data types], ie: same int, same float, etc.. ie:  [1,2,3,3,4,5]\n",
        "list = sequience/collection of can heva mixed or different data type , int and string, or int and boolean, other\n",
        "       can have duplicate values. ie: [1,2,3,3,4,5]\n",
        "tuple = readonly [list] , non updatble when created, also called, ie: (1,2,3,3,4,5)\n",
        "set = unique [list] of data, non duplicate list, 1,2,3,3,4,5 -- set generated by payth =  {1,2,3,4,5}\n",
        "dict = key/value pair , key are unique, non duplicate: {key1:1,key2:5,item3:10}\n",
        "\n",
        "-- can convert 1 data structure to another ie: list to tuple, list to set , etc\n",
        "-- CRUD - create, update and delete item from collecation (array/set/tuple/dict)\n",
        "-- lookup or search items in a collection\n",
        "-- loop through item in collection\n",
        "\n",
        "collection indexing\n",
        "=============================\n",
        "ie: lenght of collection = 10\n",
        "collection index = 0-9\n",
        "index begin at 0\n",
        "end 1 less than the length of array\n",
        "ie: last index len or collection -1 , (10-1) = 9\n",
        "\n",
        "index   data\n",
        "------- -----------\n",
        "0 -     1.5,\n",
        "1 -     2,\n",
        "2 -     3.1,\n",
        "...\n",
        "9 -     10.2\n",
        "\n",
        "\"\"\"\n",
        "\n",
        "#fixed values\n",
        "#array/list\n",
        "inv_items = [1.5,2,3.1,4,5,6.2,7,8.1,9,10.2]\n",
        "\n",
        "#dynamic values\n",
        "#optionally; use input function and loop (10 times) to populate arry\n",
        "\n",
        "#display total item in collection\n",
        "print(len(inv_items))\n",
        "\n",
        "#retieve item in collection at index ie: array/list/tuple\n",
        "print(\"first-index-0 : \", inv_items[0])  #slicers, slicing index\n",
        "print(\"last-index-1 : \", inv_items[-1]) #slicers, slicing index\n",
        "print(\"index-5 : \", inv_items[5])\n",
        "print(\"index-9 : \", inv_items[9])\n",
        "#print(\"index-10 : \", inv_items[10]) #error - invalid index\n",
        "\n",
        "total = inv_items[0] + inv_items[1] + inv_items[2] + inv_items[3] + inv_items[4] + inv_items[5] + inv_items[6] + inv_items[7] + inv_items[8] + inv_items[9]\n",
        "\n",
        "#print(\"total: \", total)\n",
        "print(\"total: \", round(total,2))\n",
        "\n"
      ],
      "metadata": {
        "colab": {
          "base_uri": "https://localhost:8080/"
        },
        "id": "rA8BCJbPe3io",
        "outputId": "51ede45a-cefa-438a-97ba-f2a01928f1a0"
      },
      "execution_count": 1,
      "outputs": [
        {
          "output_type": "stream",
          "name": "stdout",
          "text": [
            "10\n",
            "first-index-0 :  1.5\n",
            "last-index-1 :  10.2\n",
            "index-5 :  6.2\n",
            "index-9 :  10.2\n",
            "total:  56.1\n"
          ]
        }
      ]
    },
    {
      "cell_type": "code",
      "source": [
        "#week4-inv-app-demo-3.py\n",
        "\n",
        "#- if 20+ number, in-efficient to create many variables\n",
        "\n",
        "#fixed values\n",
        "#array/list\n",
        "inv_items = [1.5,2,3.1,4,5,6.2,7,8.1,9,10.2]\n",
        "\n",
        "#dynamic values\n",
        "#optionally; use input function and loop (10 times) to populate arry\n",
        "\n",
        "#total = inv_items[0] + inv_items[1] + inv_items[2] + inv_items[3] + inv_items[4] + inv_items[5] + inv_items[6] + inv_items[7] + inv_items[8] + inv_items[9]\n",
        "\n",
        "total = 0.0\n",
        "\n",
        "print(\"--- for loop -- \")\n",
        "#for loop - loop through code a fixed number of times\n",
        "#intruction to python indented coding ie: begin code block and end of code block ie: for { }\n",
        "for item in inv_items:\n",
        "  #prevoius computed total plus current item\n",
        "  total = total + item\n",
        "\n",
        "#print(\"total: \", total)\n",
        "print(\"total: \", round(total,2))\n",
        "\n",
        "#functional programming - ai/ml - mathameatical programming - r, matlab\n",
        "#- optimized way of writing existing code ie: recursive programming\n",
        "total2 = 0.0\n",
        "print(\"\")\n",
        "print(\"--- list comprehension -- \")\n",
        "#list comprehension - another way of writing for loop\n",
        "[print(item) for item in inv_items]\n",
        "#[total2 + item for item in inv_items]\n",
        "#[call_fuction for item in inv_items]\n",
        "\n",
        "print(\"\")\n",
        "print(\"total2:\",total2)\n",
        "\n",
        "print(\"\")\n",
        "print(\"--- while loop -- \")\n",
        "\n",
        "i = 0\n",
        "while i < len(inv_items): #loop until a conditipon is met\n",
        "  print(i,\" - \",inv_items[i]) #can hev out of range index ie: (len(array)-1)\n",
        "  i = i + 1 #increment i , if not endless loop\n",
        "\n"
      ],
      "metadata": {
        "colab": {
          "base_uri": "https://localhost:8080/"
        },
        "id": "YMzyvbzPpO10",
        "outputId": "d124ed80-5e98-40b2-b906-15abbbc19df9"
      },
      "execution_count": 11,
      "outputs": [
        {
          "output_type": "stream",
          "name": "stdout",
          "text": [
            "--- for loop -- \n",
            "total:  56.1\n",
            "\n",
            "--- list comprehension -- \n",
            "\n",
            "total2: 0.0\n",
            "\n",
            "--- while loop -- \n",
            "0  -  1.5\n",
            "1  -  2\n",
            "2  -  3.1\n",
            "3  -  4\n",
            "4  -  5\n",
            "5  -  6.2\n",
            "6  -  7\n",
            "7  -  8.1\n",
            "8  -  9\n",
            "9  -  10.2\n"
          ]
        }
      ]
    },
    {
      "cell_type": "code",
      "source": [
        "#week5-range-demo-1.py\n",
        "\n",
        "#range(start,end,skip-by) - loop through a range of number from-to, skip by number\n",
        "#range - stop 1 less than the length of array ie: stop - 1-len(array)\n",
        "#slicers - stop 1 less than the length of array ie: stop - 1-len(array)\n",
        "\n",
        "#range is similar to array slicing\n",
        "#range(start,end,skip)\n",
        "#slicers retrieve a rage of sequential item from array\n",
        "#array slicers array_name[start:stop:skip]\n",
        "\n",
        "inv_items = [1.5,2,3.1,4,5,6.2,7,8.1,9,10.2]\n",
        "\n",
        "#\n",
        "#functional programming fearture\n",
        "#reduce code staements, ie: ai/ml, mathamitical programming ie: r, matlab\n",
        "#\n",
        "#slicers, slicing - extract different subsets of array data\n",
        "#index 0-3 = inv_items[0:3] = 1.5,2,3.1,4\n",
        "#index -4-1 = inv_items[-4:-1] = 7,8.1,9,10,10.2\n",
        "#\n",
        "print(inv_items)\n",
        "\n",
        "print()\n",
        "\n",
        "print(\"len(inv_items)): \",len(inv_items))\n",
        "\n",
        "print()\n",
        "\n",
        "#for i in range(0,len(inv_items)):\n",
        "#for i in range(0,len(inv_items),2):\n",
        "for i in range(len(inv_items)):\n",
        "  print(i,\" - \",inv_items[i])\n"
      ],
      "metadata": {
        "colab": {
          "base_uri": "https://localhost:8080/"
        },
        "id": "rARWo_6Njneu",
        "outputId": "713276b3-e960-4cf0-80ce-06638159ddc7"
      },
      "execution_count": null,
      "outputs": [
        {
          "output_type": "stream",
          "name": "stdout",
          "text": [
            "[1.5, 2, 3.1, 4, 5, 6.2, 7, 8.1, 9, 10.2]\n",
            "\n",
            "len(inv_items)):  10\n",
            "\n",
            "0  -  1.5\n",
            "1  -  2\n",
            "2  -  3.1\n",
            "3  -  4\n",
            "4  -  5\n",
            "5  -  6.2\n",
            "6  -  7\n",
            "7  -  8.1\n",
            "8  -  9\n",
            "9  -  10.2\n"
          ]
        }
      ]
    },
    {
      "cell_type": "code",
      "source": [
        "#week5-range-demo-2.py\n",
        "#start,stop,skip\n",
        "#stop = 1-len(range/array/set/map/tuple/dict)\n",
        "\n",
        "#slicers - [start:stop:skip] - returns a new array\n",
        "\n",
        "inv_items = [1.5,2,3.1,4,5,6.2,7,8.1,9,10.2]\n",
        "\n",
        "#for i in range(10):\n",
        "#for i in range(1,10):\n",
        "for i in range(1,10,3):\n",
        "  #access array at index\n",
        "  print(i,\" - \",inv_items[i])\n"
      ],
      "metadata": {
        "colab": {
          "base_uri": "https://localhost:8080/"
        },
        "id": "bp3UfQmQoYoi",
        "outputId": "47758e0e-5684-4856-856c-302fb08f91f7"
      },
      "execution_count": null,
      "outputs": [
        {
          "output_type": "stream",
          "name": "stdout",
          "text": [
            "1  -  2\n",
            "4  -  5\n",
            "7  -  8.1\n"
          ]
        }
      ]
    },
    {
      "cell_type": "code",
      "source": [
        "#week5-range-summary-1.py\n",
        "\n",
        "#for - code statement/keyword used looping through an array and range\n",
        "#range - function - represents - min/max number\n",
        "\n",
        "#i = variable - representing each number as python loops\n",
        "# - python auto increments i\n",
        "#i can be any valid varible name\n",
        "\n",
        "#example syntax\n",
        "#for var in array/range :\n",
        "# any valid python code\n",
        "\n",
        "for i in range(10):\n",
        "  print(i,\" - \")\n"
      ],
      "metadata": {
        "colab": {
          "base_uri": "https://localhost:8080/"
        },
        "id": "nhivOH-L3mjT",
        "outputId": "63b7a20d-3063-4cf8-9196-fe2a5eda883b"
      },
      "execution_count": null,
      "outputs": [
        {
          "output_type": "stream",
          "name": "stdout",
          "text": [
            "0  - \n",
            "1  - \n",
            "2  - \n",
            "3  - \n",
            "4  - \n",
            "5  - \n",
            "6  - \n",
            "7  - \n",
            "8  - \n",
            "9  - \n"
          ]
        }
      ]
    },
    {
      "cell_type": "code",
      "source": [
        "#week5-range-summary-2.py\n",
        "\n",
        "#for - code statement/keyword used looping through an array and range\n",
        "#range - function - represents - min/max number\n",
        "\n",
        "#i = variable - representing each number as python loops\n",
        "# - python auto increments i\n",
        "#i can be any valid varible name\n",
        "\n",
        "#example syntax\n",
        "#for var in array/range :\n",
        "# any valid python code\n",
        "\n",
        "inv_items = [1.5,2,3.1,4,5,6.2,7,8.1,9,10.2]\n",
        "\n",
        "#for i in inv_items:\n",
        "for item in inv_items:\n",
        "  print(item,\" - \")\n"
      ],
      "metadata": {
        "colab": {
          "base_uri": "https://localhost:8080/"
        },
        "id": "ZTe-RXz54_1K",
        "outputId": "c5051e5d-dd82-434f-bbe9-132238fd5670"
      },
      "execution_count": null,
      "outputs": [
        {
          "output_type": "stream",
          "name": "stdout",
          "text": [
            "1.5  - \n",
            "2  - \n",
            "3.1  - \n",
            "4  - \n",
            "5  - \n",
            "6.2  - \n",
            "7  - \n",
            "8.1  - \n",
            "9  - \n",
            "10.2  - \n"
          ]
        }
      ]
    },
    {
      "cell_type": "code",
      "source": [
        "#week5-range-summary-3.py\n",
        "\n",
        "#for - code statement/keyword used looping through an array and range\n",
        "#range - function - represents - min/max number\n",
        "\n",
        "#i = variable - representing each number as python loops\n",
        "# - python auto increments i\n",
        "#i can be any valid varible name\n",
        "\n",
        "#example syntax\n",
        "#for var in array/range :\n",
        "# any valid python code\n",
        "\n",
        "inv_items = [1.5,2,3.1,4,5,6.2,7,8.1,9,10.2]\n",
        "\n",
        "total_items = len(inv_items)\n",
        "\n",
        "for i in range(total_items):\n",
        "  print(i,\" - \", inv_items[i])\n"
      ],
      "metadata": {
        "colab": {
          "base_uri": "https://localhost:8080/"
        },
        "id": "oMHjK_aQ5ih7",
        "outputId": "7414abd4-6be7-41b2-befd-603b869fd9ab"
      },
      "execution_count": null,
      "outputs": [
        {
          "output_type": "stream",
          "name": "stdout",
          "text": [
            "0  -  1.5\n",
            "1  -  2\n",
            "2  -  3.1\n",
            "3  -  4\n",
            "4  -  5\n",
            "5  -  6.2\n",
            "6  -  7\n",
            "7  -  8.1\n",
            "8  -  9\n",
            "9  -  10.2\n"
          ]
        }
      ]
    },
    {
      "cell_type": "code",
      "source": [
        "#week5-ragen-demo-2.py\n",
        "#start,stop,skip\n",
        "#stop = 1-len(range/array/set/map/tuple/dict)\n",
        "\n",
        "#slicers - [start:stop:skip] - returns a new array\n",
        "\n",
        "#for i in range(10):\n",
        "#for i in range(1,10):\n",
        "for i in range(1,10,3):\n",
        "  print(i,\" - \")\n"
      ],
      "metadata": {
        "id": "Gf9_hKKqpkOn"
      },
      "execution_count": null,
      "outputs": []
    },
    {
      "cell_type": "code",
      "source": [
        "#week5-ragen-demo-3.py\n",
        "#start,stop,skip\n",
        "#stop = 1-len(range/array/set/map/tuple/dict)\n",
        "\n",
        "#slicers - [start:stop:skip] - returns a new array\n",
        "\n",
        "#for i in range(10):\n",
        "#for i in range(1,10):\n",
        "for i in range(1,10,3):\n",
        "#for i in range(1,10,10):\n",
        "  print(i,\" - \")\n"
      ],
      "metadata": {
        "colab": {
          "base_uri": "https://localhost:8080/"
        },
        "id": "0UoLl3oiyJGq",
        "outputId": "ebb5f79e-8b2f-495f-e3ed-723b8134111f"
      },
      "execution_count": null,
      "outputs": [
        {
          "output_type": "stream",
          "name": "stdout",
          "text": [
            "1  - \n",
            "4  - \n",
            "7  - \n"
          ]
        }
      ]
    },
    {
      "cell_type": "code",
      "source": [
        "#week5-inv-app-demo-1.py\n",
        "\n",
        "inv_items = [1.5,2,3.1,4,5,6.2,7,8.1,9,10.2]\n",
        "\n",
        "total = 0.0\n",
        "\n",
        "\"\"\"\n",
        "for item in inv_items:\n",
        "  total = total + item\n",
        "\"\"\"\n",
        "\n",
        "for i in range(len(inv_items)):\n",
        "  total = total + inv_items[i]\n",
        "\n",
        "#print(\"total: \", total)\n",
        "print(\"total: \", round(total,2))\n",
        "\n"
      ],
      "metadata": {
        "id": "TQM6IWg3r_kb",
        "colab": {
          "base_uri": "https://localhost:8080/"
        },
        "outputId": "c0a2fcb0-bb75-4c59-c708-79e7cf93b6bb"
      },
      "execution_count": null,
      "outputs": [
        {
          "output_type": "stream",
          "name": "stdout",
          "text": [
            "total:  45.0\n"
          ]
        }
      ]
    },
    {
      "cell_type": "code",
      "source": [
        "#summary array/list - approx 40%+ of python entry lebvel and associate exam\n",
        "\n",
        "inv_items = [1.5,2,3.1,4,5,6.2,7,8.1,9,10.2]\n",
        "\n",
        "#---looping---\n",
        "#for item in inv_items\n",
        "#for item in range(len(inv_items))\n",
        "#while i < len(inv_items)\n",
        "\n",
        "#---indexing---\n",
        "#inv_items[0]\n",
        "#inv_items[1-]\n",
        "#inv_items[10] ##out of range\n",
        "\n",
        "#--- list comprehension ---\n",
        "#[print(item) for item in inv_items]\n",
        "\n",
        "#---slicers/slicing---\n",
        "#inv_item[1:5]\n",
        "#inv_item[0:10:2]\n",
        "#inv_item[-5:-1]\n",
        "#inv_item[-5:-1:-2\n",
        "\n"
      ],
      "metadata": {
        "id": "5iCrH5zR_xbF"
      },
      "execution_count": null,
      "outputs": []
    },
    {
      "cell_type": "code",
      "source": [
        "\"\"\"\n",
        "CRUD operations - create/insert, update, delete\n",
        "retieve items via index\n",
        "looking if item exits in collection\n",
        "\"\"\"\n",
        "\n",
        "#array/list\n",
        "inv_items = [1.5,2,3.1,4,5,6.2,7,8.1,9,10.2]\n",
        "\n",
        "print(inv_items)\n",
        "\n",
        "#array/list-add  - tuple - n/a\n",
        "inv_items.append(3.5)\n",
        "\n",
        "#array/list-update - tuple - n/a, set - n/a\n",
        "inv_items[2] = 7.2\n",
        "\n",
        "#array/list-delete - tuple - n/a\n",
        "del inv_items[3]\n",
        "inv_items.pop(7) #delete at index 7\n",
        "inv_items.remove(5) #delete first value 5 from array\n",
        "#inv_items.clear() #delete all items\n",
        "\n",
        "print(inv_items)\n",
        "\n",
        "#array/list-lookup\n",
        "if 10.2 in inv_items:\n",
        "    print(\"10.2 exist in inv_items\")\n",
        "else:\n",
        "    print(\"10.2 does NOT exist in inv_items\")\n",
        "\n"
      ],
      "metadata": {
        "colab": {
          "base_uri": "https://localhost:8080/"
        },
        "id": "3PGfp3rs_f2A",
        "outputId": "d510c7ae-d98f-4d61-f21f-625aa8ce11b9"
      },
      "execution_count": 20,
      "outputs": [
        {
          "output_type": "stream",
          "name": "stdout",
          "text": [
            "[1.5, 2, 3.1, 4, 5, 6.2, 7, 8.1, 9, 10.2]\n",
            "[1.5, 2, 7.2, 6.2, 7, 8.1, 10.2, 3.5]\n",
            "10.2 exist in inv_items\n"
          ]
        }
      ]
    }
  ]
}