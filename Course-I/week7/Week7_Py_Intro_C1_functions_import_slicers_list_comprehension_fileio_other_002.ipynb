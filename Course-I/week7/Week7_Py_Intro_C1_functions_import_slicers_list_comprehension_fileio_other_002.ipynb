{
  "nbformat": 4,
  "nbformat_minor": 0,
  "metadata": {
    "colab": {
      "provenance": []
    },
    "kernelspec": {
      "name": "python3",
      "display_name": "Python 3"
    },
    "language_info": {
      "name": "python"
    }
  },
  "cells": [
    {
      "cell_type": "markdown",
      "source": [
        "#Python Course I - Weekly class demos and Exercises summary  \n",
        "- (Mon, Wed) - (8am-10:30am) - (2.5h class/demos/labs) / 30 min practice\n",
        "- Course I - 7 weeks\n",
        "- Course II - 10 weeks\n",
        "\n",
        "#Github Course Notebook Refence\n",
        "\n",
        "https://github.com/deanliit/10-24-Python-Intro-to-Advanced\n",
        "\n",
        "#Weekly Topics\n",
        " - intro to google colab,\n",
        " - vs.code extensions\n",
        "- functions, return, parameters, default parameters\n",
        "- import, date\n",
        "- range, slicers, list comprehension\n",
        "- min, max\n",
        "- file i/o\n",
        "- other\n",
        "\n",
        "#Weekly Homework , Class Assignment, Class Project\n",
        "- reccomended: Reading/review\n",
        "  - w3schools reference\n",
        "  - https://www.w3schools.com/python/\n",
        "    - comment, varibles, data types, casting, input, array, loop\n",
        "  - pdf ebook ref\n",
        "\n",
        "- practice labs\n",
        " - create intro python code using google colabs\n",
        "   - ie: print, markdown text\n",
        "   \n",
        "- exercises , course book pages\n",
        "- pages:\n",
        "   -\n",
        "\n",
        "## Python references\n",
        "https://www.w3schools.com/python/python_intro.asp\n",
        "- Course book\n",
        "\n",
        "### Class Quiz - Email link to google forms\n",
        "\n",
        "<pre>\n",
        "- 3 quizzes - similar to python entry level quiz\n",
        "- multiple choice\n",
        "- 6 multiple choice quesitons = 85%\n",
        "- 1 code fill-in question\n",
        "-- write code is vs.code - copy code in quiz\n",
        "-- small example program -- %15\n",
        "example: write a progarm to compute 2 values\n",
        "optional/extra: create a startup program\n",
        "input: prompt for each input\n",
        "output: display items and total\n",
        "hint:\n",
        "\n",
        "num1 = input(\"num2\")\n",
        "num2 = input(\"num2\")\n",
        "total = int(num1) + int(num2)\n",
        "print(\"total\", total)\n",
        "\n",
        "- take home\n",
        "- approx. 1 week to complete\n",
        "- quiz is similar question to python Entry Level Exam. Some question from Associate Exam\n",
        "- review quiz in class\n",
        "\n",
        "</pre>\n"
      ],
      "metadata": {
        "id": "kkf01IuMAr4_"
      }
    },
    {
      "cell_type": "markdown",
      "source": [
        "<pre>\n",
        "\n",
        "---------------------------------------------\n",
        "#Course I Module Summary\n",
        "-----------------------------------------------\n",
        "\n",
        "https://www.w3schools.com/python/python_intro.asp\n",
        "\n",
        "# Module 1\n",
        "---------------------------\n",
        "Python fundamentals\n",
        "Data type\n",
        "Variables\n",
        "Input\n",
        "for, while loop\n",
        "Other\n",
        "\n",
        "# Module 2\n",
        "----------------------------\n",
        "Array index\n",
        "Slicers, list comprehension  \n",
        "Functions\n",
        "File input\n",
        "Other\n",
        "\n",
        "# Module 3\n",
        "--------------------------------\n",
        "Data structures\n",
        "Array, set, list, tuple, map\n",
        "Classes\n",
        "Lamda\n",
        "Other\n",
        "\n",
        "#optional - Module 4\n",
        "---------------------------------\n",
        "Intro to data analyst using python\n",
        "Pandas, numpy\n",
        "SQL\n",
        "Other\n",
        "\n",
        "</pre>"
      ],
      "metadata": {
        "id": "lhHzTF-3wluD"
      }
    },
    {
      "cell_type": "code",
      "source": [
        "\"\"\"\n",
        "functions, return, parameters, default parameters\n",
        "import, date\n",
        "range, slicers, list comprehension\n",
        "min, max\n",
        "file i/o\n",
        "other\n",
        "\"\"\"\n"
      ],
      "metadata": {
        "id": "8vCXTpZ90Apf"
      },
      "execution_count": null,
      "outputs": []
    },
    {
      "cell_type": "code",
      "source": [
        "#functions-demo-1.py\n",
        "#functions, return, parameters, default parameters\n",
        "#https://www.w3schools.com/python/python_functions.asp\n",
        "\"\"\"\n",
        "functions:\n",
        "giving a group of code statement/code blocks a name\n",
        "as you write more larger application you can optimizae code into functions\n",
        "- mainly used to refactor repeated code, simplify/reduct large code blocks\n",
        "- for code re-use\n",
        "- example: if code block is > 20 lines of code\n",
        "- fucntions\n",
        "- can have input parameters\n",
        "- can have default parameters\n",
        "- return data\n",
        "\"\"\"\n",
        "\n",
        "def funct1():\n",
        "  print(\"code statment\") #no input parameter\n",
        "  #any valid pyhton code\n",
        "\n",
        "def funct2(param1):\n",
        "  print(\"code statment: \", param1)  #parameter can be any valid data type\n",
        "  #any valid pyhton code\n",
        "\n",
        "def funct3(param1, param2):\n",
        "  print(\"code statment: \", param1, param2) #parameter can be any valid data type\n",
        "  #any valid pyhton code\n",
        "\n",
        "def funct4(param1, param2, param3):\n",
        "  print(\"code statment: \", param1, param2, param3) #parameter can be any valid data type\n",
        "  #any valid pyhton code\n",
        "  return (param1 + param2 + param3)\n",
        "\n",
        "#call a fucntions\n",
        "funct1()\n",
        "funct2(1)\n",
        "funct3(2,3)\n",
        "total = funct4(4,5,6)\n",
        "print(\"total: \", total)\n",
        "\n",
        "\n"
      ],
      "metadata": {
        "colab": {
          "base_uri": "https://localhost:8080/"
        },
        "id": "RKT6vSGU0UyF",
        "outputId": "422bb6ec-7a2e-4ec7-b56b-6dda3db407f7"
      },
      "execution_count": 5,
      "outputs": [
        {
          "output_type": "stream",
          "name": "stdout",
          "text": [
            "code statment\n",
            "code statment:  1\n",
            "code statment:  2 3\n",
            "code statment:  4 5 6\n",
            "total:  15\n"
          ]
        }
      ]
    },
    {
      "cell_type": "code",
      "source": [
        "#functions-demo-2\".py\n",
        "#functions, return, parameters, default parameters\n",
        "#https://www.w3schools.com/python/python_functions.asp\n",
        "\n",
        "#default parameters\n",
        "def functa(param1=\"a\"):\n",
        "  print(\"code statment\", param1) #no input parameter\n",
        "  #any valid pyhton code\n",
        "\n",
        "functa()\n",
        "functa(\"\")\n",
        "functa(None)\n",
        "functa(\"1\")\n"
      ],
      "metadata": {
        "colab": {
          "base_uri": "https://localhost:8080/"
        },
        "id": "QadOao3V5rOm",
        "outputId": "90067b2f-9099-4140-b955-8347615704b0"
      },
      "execution_count": 9,
      "outputs": [
        {
          "output_type": "stream",
          "name": "stdout",
          "text": [
            "code statment a\n",
            "code statment \n",
            "code statment None\n",
            "code statment 1\n"
          ]
        }
      ]
    }
  ]
}