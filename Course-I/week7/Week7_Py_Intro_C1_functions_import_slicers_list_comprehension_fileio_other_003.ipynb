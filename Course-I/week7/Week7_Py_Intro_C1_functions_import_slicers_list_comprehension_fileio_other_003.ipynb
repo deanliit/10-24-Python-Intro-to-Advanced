{
  "nbformat": 4,
  "nbformat_minor": 0,
  "metadata": {
    "colab": {
      "provenance": []
    },
    "kernelspec": {
      "name": "python3",
      "display_name": "Python 3"
    },
    "language_info": {
      "name": "python"
    }
  },
  "cells": [
    {
      "cell_type": "markdown",
      "source": [
        "#Python Course I - Weekly class demos and Exercises summary  \n",
        "- (Mon, Wed) - (8am-10:30am) - (2.5h class/demos/labs) / 30 min practice\n",
        "- Course I - 7 weeks\n",
        "- Course II - 10 weeks\n",
        "\n",
        "#Github Course Notebook Refence\n",
        "\n",
        "https://github.com/deanliit/10-24-Python-Intro-to-Advanced\n",
        "\n",
        "#Weekly Topics\n",
        " - intro to google colab,\n",
        " - vs.code extensions\n",
        "- functions, return, parameters, default parameters\n",
        "- import, date\n",
        "- range, slicers, list comprehension\n",
        "- min, max\n",
        "- file i/o\n",
        "- other\n",
        "\n",
        "#Weekly Homework , Class Assignment, Class Project\n",
        "- reccomended: Reading/review\n",
        "  - w3schools reference\n",
        "  - https://www.w3schools.com/python/\n",
        "    - comment, varibles, data types, casting, input, array, loop\n",
        "  - pdf ebook ref\n",
        "\n",
        "- practice labs\n",
        " - create intro python code using google colabs\n",
        "   - ie: print, markdown text\n",
        "   \n",
        "- exercises , course book pages\n",
        "- pages:\n",
        "   -\n",
        "\n",
        "## Python references\n",
        "https://www.w3schools.com/python/python_intro.asp\n",
        "- Course book\n",
        "\n",
        "### Class Quiz - Email link to google forms\n",
        "\n",
        "<pre>\n",
        "- 3 quizzes - similar to python entry level quiz\n",
        "- multiple choice\n",
        "- 6 multiple choice quesitons = 85%\n",
        "- 1 code fill-in question\n",
        "-- write code is vs.code - copy code in quiz\n",
        "-- small example program -- %15\n",
        "example: write a progarm to compute 2 values\n",
        "optional/extra: create a startup program\n",
        "input: prompt for each input\n",
        "output: display items and total\n",
        "hint:\n",
        "\n",
        "num1 = input(\"num2\")\n",
        "num2 = input(\"num2\")\n",
        "total = int(num1) + int(num2)\n",
        "print(\"total\", total)\n",
        "\n",
        "- take home\n",
        "- approx. 1 week to complete\n",
        "- quiz is similar question to python Entry Level Exam. Some question from Associate Exam\n",
        "- review quiz in class\n",
        "\n",
        "</pre>\n"
      ],
      "metadata": {
        "id": "kkf01IuMAr4_"
      }
    },
    {
      "cell_type": "markdown",
      "source": [
        "<pre>\n",
        "\n",
        "---------------------------------------------\n",
        "#Course I Module Summary\n",
        "-----------------------------------------------\n",
        "\n",
        "https://www.w3schools.com/python/python_intro.asp\n",
        "\n",
        "# Module 1\n",
        "---------------------------\n",
        "Python fundamentals\n",
        "Data type\n",
        "Variables\n",
        "Input\n",
        "for, while loop\n",
        "Other\n",
        "\n",
        "# Module 2\n",
        "----------------------------\n",
        "Array index\n",
        "Slicers, list comprehension  \n",
        "Functions\n",
        "File input\n",
        "Other\n",
        "\n",
        "# Module 3\n",
        "--------------------------------\n",
        "Data structures\n",
        "Array, set, list, tuple, map\n",
        "Classes\n",
        "Lamda\n",
        "Other\n",
        "\n",
        "#optional - Module 4\n",
        "---------------------------------\n",
        "Intro to data analyst using python\n",
        "Pandas, numpy\n",
        "SQL\n",
        "Other\n",
        "\n",
        "</pre>"
      ],
      "metadata": {
        "id": "lhHzTF-3wluD"
      }
    },
    {
      "cell_type": "code",
      "source": [
        "\"\"\"\n",
        "functions, return, parameters, default parameters\n",
        "import, date\n",
        "range, slicers, list comprehension\n",
        "min, max\n",
        "file i/o\n",
        "other\n",
        "\"\"\"\n"
      ],
      "metadata": {
        "id": "8vCXTpZ90Apf"
      },
      "execution_count": null,
      "outputs": []
    },
    {
      "cell_type": "code",
      "source": [
        "#functions-demo-1.py\n",
        "#functions, return, parameters, default parameters\n",
        "#https://www.w3schools.com/python/python_functions.asp\n",
        "\"\"\"\n",
        "functions:\n",
        "giving a group of code statement/code blocks a name\n",
        "as you write more larger application you can optimizae code into functions\n",
        "- mainly used to refactor repeated code, simplify/reduct large code blocks\n",
        "- for code re-use\n",
        "- example: if code block is > 20 lines of code\n",
        "- fucntions\n",
        "- can have input parameters\n",
        "- can have default parameters\n",
        "- return data\n",
        "\"\"\"\n",
        "\n",
        "def funct1():\n",
        "  print(\"code statment\") #no input parameter\n",
        "  #any valid pyhton code\n",
        "\n",
        "def funct2(param1):\n",
        "  print(\"code statment: \", param1)  #parameter can be any valid data type\n",
        "  #any valid pyhton code\n",
        "\n",
        "def funct3(param1, param2):\n",
        "  print(\"code statment: \", param1, param2) #parameter can be any valid data type\n",
        "  #any valid pyhton code\n",
        "\n",
        "def funct4(param1, param2, param3):\n",
        "  print(\"code statment: \", param1, param2, param3) #parameter can be any valid data type\n",
        "  #any valid pyhton code\n",
        "  return (param1 + param2 + param3)\n",
        "\n",
        "#call a fucntions\n",
        "funct1()\n",
        "funct2(1)\n",
        "funct3(2,3)\n",
        "total = funct4(4,5,6)\n",
        "print(\"total: \", total)\n",
        "\n",
        "\n"
      ],
      "metadata": {
        "colab": {
          "base_uri": "https://localhost:8080/"
        },
        "id": "RKT6vSGU0UyF",
        "outputId": "422bb6ec-7a2e-4ec7-b56b-6dda3db407f7"
      },
      "execution_count": null,
      "outputs": [
        {
          "output_type": "stream",
          "name": "stdout",
          "text": [
            "code statment\n",
            "code statment:  1\n",
            "code statment:  2 3\n",
            "code statment:  4 5 6\n",
            "total:  15\n"
          ]
        }
      ]
    },
    {
      "cell_type": "code",
      "source": [
        "#functions-demo-2\".py\n",
        "#functions, return, parameters, default parameters\n",
        "#https://www.w3schools.com/python/python_functions.asp\n",
        "\n",
        "#default parameters\n",
        "def functa(param1=\"a\"):\n",
        "  print(\"code statment\", param1) #no input parameter\n",
        "  #any valid pyhton code\n",
        "\n",
        "functa()\n",
        "functa(\"\")\n",
        "functa(None)\n",
        "functa(\"1\")\n"
      ],
      "metadata": {
        "colab": {
          "base_uri": "https://localhost:8080/"
        },
        "id": "QadOao3V5rOm",
        "outputId": "90067b2f-9099-4140-b955-8347615704b0"
      },
      "execution_count": null,
      "outputs": [
        {
          "output_type": "stream",
          "name": "stdout",
          "text": [
            "code statment a\n",
            "code statment \n",
            "code statment None\n",
            "code statment 1\n"
          ]
        }
      ]
    },
    {
      "cell_type": "code",
      "source": [
        "#providing a default parameter makes the paramater optional\n",
        "def functa(param1=1, param2=2):\n",
        "  print(\"codea statment: \", param1,\",\", param2)\n",
        "  #any valid pyhton code\n",
        "\n",
        "#param1 is required because parameter 2 and 3 are optional\n",
        "def functb(param1, param2=2, param3=3):\n",
        "  print(\"codeb statment: \", param1,\",\", param2, param3)\n",
        "  #any valid pyhton code\n",
        "\n",
        "#default praameter error\n",
        "#last pramater must not be null if pervious default paramaters defined\n",
        "#def functc(param1=1, param2=2, param3):\n",
        "def functc(param1=1, param2=2, param3=3):\n",
        "  print(\"codec statment: \", param1,\",\", param2)\n",
        "  #any valid pyhton code\n",
        "\n",
        "functa()\n",
        "functa(\"\")\n",
        "functa(None)\n",
        "\n",
        "print()\n",
        "#functb(\"a\",,) #error\n",
        "functb(\"a\",\"b\",)\n"
      ],
      "metadata": {
        "colab": {
          "base_uri": "https://localhost:8080/"
        },
        "id": "D-r40yTpARYe",
        "outputId": "e5f44b07-3003-43f5-8509-066978122f42"
      },
      "execution_count": 5,
      "outputs": [
        {
          "output_type": "stream",
          "name": "stdout",
          "text": [
            "codea statment:  1 , 2\n",
            "codea statment:   , 2\n",
            "codea statment:  None , 2\n",
            "codeb statment:  a , b 3\n"
          ]
        }
      ]
    },
    {
      "cell_type": "code",
      "source": [
        "#multi parameters, ie: mult argument paramaters\n",
        "\n",
        "def functa(*args):\n",
        "  print(\"*args len: \", len(args))\n",
        "  print(\"codea statment: \", args[0])\n",
        "  #loop though args\n",
        "  #any valid pyhton code\n",
        "\n",
        "#**args = dict\n",
        "def functb(**args):\n",
        "  print(\"*args = dict len: \", len(args))\n",
        "  print(\"codea statment: \", args[\"a1\"])\n",
        "  #loop though args\n",
        "  #any valid pyhton code\n",
        "\n",
        "def functc(args):\n",
        "  print(\"collection args len: \", len(args))\n",
        "  print(\"codea statment: \", args[0])\n",
        "  #loop though args\n",
        "  #any valid pyhton code\n",
        "\n",
        "functa(\"a\",\"b\",\"c\",1)\n",
        "print()\n",
        "#key = variable\n",
        "functb(a1=1,b1=2,c1=3,d1=1)\n",
        "print()\n",
        "#functc(\"a\",\"b\",\"c\",1) #error\n",
        "functc((\"a\",\"b\",\"c\",1))\n"
      ],
      "metadata": {
        "colab": {
          "base_uri": "https://localhost:8080/"
        },
        "id": "Rb_ZexqLE-yO",
        "outputId": "e3520b6a-2321-40ce-f81d-26989d735016"
      },
      "execution_count": 13,
      "outputs": [
        {
          "output_type": "stream",
          "name": "stdout",
          "text": [
            "*args len:  4\n",
            "codea statment:  a\n",
            "\n",
            "*args = dict len:  4\n",
            "codea statment:  1\n",
            "\n",
            "collection args len:  4\n",
            "codea statment:  a\n"
          ]
        }
      ]
    },
    {
      "cell_type": "code",
      "source": [
        "#import statement\n",
        "#include addition codes libraries as requried from python or other companies\n",
        "#sometimes will install additional libraries before importing\n",
        "\n",
        "#built in additional pyhon library to retieve system date/time\n",
        "import datetime\n",
        "\n",
        "#use library\n",
        "#from datatime library documentaion\n",
        "#https://www.w3schools.com/python/python_datetime.asp\n",
        "_date_time = datetime.datetime.now() #retieve system date/time\n",
        "\n",
        "print(_date_time)\n",
        "print()\n",
        "print(\"month:\",_date_time.month)\n",
        "print(\"day:\",_date_time.day)\n",
        "print(\"year:\",_date_time.year)\n",
        "print()\n",
        "print(\"hour:\",_date_time.hour)\n",
        "print(\"min:\",_date_time.minute)\n",
        "print()\n",
        "print(_date_time.strftime(\"%d/%m/%y\"))\n",
        "print(_date_time.strftime(\"%H:%M\"))\n",
        "\n",
        "#build-in function whihc yiou do not have to inport\n",
        "#sum,print,min,max, other\n",
        "\n",
        "\n"
      ],
      "metadata": {
        "colab": {
          "base_uri": "https://localhost:8080/"
        },
        "id": "szTfq-xAI5up",
        "outputId": "6e47e6fc-7bc6-4069-b974-297363364635"
      },
      "execution_count": 21,
      "outputs": [
        {
          "output_type": "stream",
          "name": "stdout",
          "text": [
            "2024-12-04 15:06:56.917146\n",
            "\n",
            "month: 12\n",
            "day: 4\n",
            "year: 2024\n",
            "\n",
            "hour: 15\n",
            "min: 6\n",
            "\n",
            "04/12/24\n",
            "15:06\n"
          ]
        }
      ]
    }
  ]
}