{
  "nbformat": 4,
  "nbformat_minor": 0,
  "metadata": {
    "colab": {
      "provenance": []
    },
    "kernelspec": {
      "name": "python3",
      "display_name": "Python 3"
    },
    "language_info": {
      "name": "python"
    }
  },
  "cells": [
    {
      "cell_type": "markdown",
      "source": [
        "#Python Course I - Weekly class demos and Exercises summary  \n",
        "- (Mon, Wed) - (8am-10:30am) - (2.5h class/demos/labs) / 30 min practice\n",
        "- Course I - 7 weeks\n",
        "- Course II - 10 weeks\n",
        "\n",
        "#Github Course Notebook Refence\n",
        "\n",
        "https://github.com/deanliit/10-24-Python-Intro-to-Advanced\n",
        "\n",
        "#Weekly Topics\n",
        " - intro to google colabsl, vs.code\n",
        "\n",
        "#Weekly Homework , Class Assignment, Class Project\n",
        "- reccomended: Reading/review\n",
        "  - w3schools reference\n",
        "  - https://www.w3schools.com/python/\n",
        "    - comment, varibles, data types\n",
        "  - pdf ebook ref\n",
        "\n",
        "- practice labs\n",
        " - create intro python code using google colabs\n",
        "   - ie: print, markdown text\n",
        "   \n",
        "- exercises , course book pages\n",
        "- pages:\n",
        "   -\n",
        "\n",
        "## Python references\n",
        "https://www.w3schools.com/python/python_intro.asp\n",
        "- Course book\n",
        "\n",
        "### Class Quiz - Email link to google forms\n",
        "\n",
        "<pre>\n",
        "- 3 quizzes - similar to python entry level quiz\n",
        "- multiple choice\n",
        "- 6 multiple choice quesitons = 85%\n",
        "- 1 code fill-in question\n",
        "-- write code is vs.code - copy code in quiz\n",
        "-- small example program -- %15\n",
        "example: write a progarm to compute 2 values\n",
        "optional/extra: create a startup program\n",
        "input: prompt for each input\n",
        "output: display items and total\n",
        "hint:\n",
        "\n",
        "name = input(\"name\")\n",
        "email = input(\"email\")\n",
        "print(f\"{name} {email}\")\n",
        "#print(name, email)\n",
        "\n",
        "- take home\n",
        "- approx. 1 week to complete\n",
        "- submit answers with quiz\n",
        "- quiz is similar question to python Entry Level Exam and some question from Associate Exam\n",
        "- no questions on Data Science, SQL, HTML, ETL\n",
        "- review quiz in class\n",
        "\n",
        "</pre>\n"
      ],
      "metadata": {
        "id": "kkf01IuMAr4_"
      }
    },
    {
      "cell_type": "markdown",
      "source": [
        "Introduction to Python Topic Summary\n",
        "- -------------------------------------------------------------\n",
        "\n",
        "Introduction to Python\n",
        "- https://www.w3schools.com/python/python_intro.asp\n",
        "\n",
        "# download python 3.x or latest\n",
        "- https://www.python.org/downloads/\n",
        "\n",
        "google colabs notebook introduction\n",
        "- similar to jypyter notebook\n",
        "- https://colab.research.google.com/\n",
        "\n",
        "vs.code - extension\n",
        "- code editor\n",
        "- https://code.visualstudio.com/download\n",
        "\n",
        "Pycharm\n",
        "- https://www.jetbrains.com/pycharm/download/?section=windows\n",
        "- code editor\n",
        "\n",
        "pyscripter\n",
        "- https://sourceforge.net/projects/pyscripter/\n",
        "- pre-install python with editor\n",
        "- run python 3+ in editor\n",
        "- install l=python libraries in the editor environment instead of local computer\n",
        "\n",
        "<pre>\n",
        "---------------------------------------------\n",
        "#Course I Module Summary\n",
        "-----------------------------------------------\n",
        "\n",
        "https://www.w3schools.com/python/python_intro.asp\n",
        "\n",
        "# Module 1\n",
        "---------------------------\n",
        "Python fundamentals\n",
        "Data type\n",
        "Variables\n",
        "Input\n",
        "for, while loop\n",
        "Other\n",
        "\n",
        "# Module 2\n",
        "----------------------------\n",
        "Array index\n",
        "Slicers, list comprehension  \n",
        "Functions\n",
        "File input\n",
        "Other\n",
        "\n",
        "# Module 3\n",
        "--------------------------------\n",
        "Data structures\n",
        "Array, set, list, tuple, map\n",
        "Classes\n",
        "Lamda\n",
        "Other\n",
        "\n",
        "#optional - Module 4\n",
        "---------------------------------\n",
        "Intro to data analyst using python\n",
        "Pandas, numpy\n",
        "SQL\n",
        "Other\n",
        "\n",
        "</pre>\n"
      ],
      "metadata": {
        "id": "eUoXWev-Au7k"
      }
    },
    {
      "cell_type": "markdown",
      "source": [
        "Q/A\n",
        "- ---------------\n",
        "\n",
        "Questions\n",
        "- eamil questions\n",
        "- firday - q/a via google meeting\n",
        "\n"
      ],
      "metadata": {
        "id": "M5BSELstmEvC"
      }
    },
    {
      "cell_type": "markdown",
      "source": [
        "### Intro to google colabs notebook\n",
        "- uses markdown text\n",
        "  - markdown - simplified version of html\n",
        "  - h1, title, bold, lists\n",
        "- google virtual computer: linux os\n",
        "- write python code\n",
        "- schedule notebooks ie: batch programs\n",
        "- can write notebook code in other languages\n",
        "  - javascript, R, SQL\n",
        "  - javs, other languages\n",
        "- each colab notbook is similar to 1 python fil1\n",
        "  - codes from previous cell above can be access be the current cell\n",
        "  - example: varible created in a previous cell can be access by a cell below.\n",
        "\n",
        "\n",
        "\n"
      ],
      "metadata": {
        "id": "vDsRsfg7ps9q"
      }
    },
    {
      "cell_type": "code",
      "source": [
        "#introduction to google colabs\n"
      ],
      "metadata": {
        "id": "tz74qL4DCn9B"
      },
      "execution_count": null,
      "outputs": []
    },
    {
      "cell_type": "code",
      "source": [
        "# introduction to vs.code\n",
        "\n"
      ],
      "metadata": {
        "id": "tp1bZtfLDoNR"
      },
      "execution_count": null,
      "outputs": []
    }
  ]
}