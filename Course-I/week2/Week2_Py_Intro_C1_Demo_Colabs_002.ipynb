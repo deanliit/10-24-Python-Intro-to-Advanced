{
  "nbformat": 4,
  "nbformat_minor": 0,
  "metadata": {
    "colab": {
      "provenance": []
    },
    "kernelspec": {
      "name": "python3",
      "display_name": "Python 3"
    },
    "language_info": {
      "name": "python"
    }
  },
  "cells": [
    {
      "cell_type": "markdown",
      "source": [
        "### Colabs class demo #2\n",
        "\n",
        "html - height text\n",
        "H1\n",
        "h2\n",
        "..\n",
        "h6\n",
        "\n",
        "# title 1\n",
        "### title 3\n",
        "##### title 5\n",
        "###### title 6\n"
      ],
      "metadata": {
        "id": "T2IPyuETYmCo"
      }
    },
    {
      "cell_type": "code",
      "execution_count": null,
      "metadata": {
        "id": "eccbnIGzYgBC"
      },
      "outputs": [],
      "source": [
        "#python single line comment\n",
        "\n",
        "\"\"\"\n",
        "python multi line\n",
        "comment\n",
        "\"\"\"\n",
        "\n",
        "print(\"intro to pyton 3.0\")\n"
      ]
    },
    {
      "cell_type": "code",
      "source": [
        "#variable-demo-1.py\n",
        "#variables - define in-memroy data that can use later in our code/app\n",
        "\n",
        "#define data or memory variable or data type\n",
        "#review: how much memory a variable/data takes in memory\n",
        "#review: python create default data type and data sizes\n",
        "\n",
        "title = \"Intro to python\" #string variable\n",
        "version = \"3.0\"  #string variable\n",
        "\n",
        "#using memory varible\n",
        "#print(title + verion) #invalid varibele name reference\n",
        "print(title + version)\n"
      ],
      "metadata": {
        "colab": {
          "base_uri": "https://localhost:8080/"
        },
        "id": "bgpLn9s6afrw",
        "outputId": "590dd901-4494-428e-b1bf-354b41924734"
      },
      "execution_count": null,
      "outputs": [
        {
          "output_type": "stream",
          "name": "stdout",
          "text": [
            "Intro to python3.0\n"
          ]
        }
      ]
    },
    {
      "cell_type": "code",
      "source": [
        "#variable-demo-2.py\n",
        "\n",
        "#-- can re-use varible defined in previous cell\n",
        "#- re-assigning varibel created in pre-vous cell\n",
        "title = \"Intro to python\" #string variable\n",
        "version = \"3.0\"  #string variable\n",
        "\n",
        "#print(title + verion) #invalid varibele name reference\n",
        "#print(title + version)\n",
        "\n",
        "#concatinating / combining string variable s\n",
        "#print(title + \" \" + version)\n",
        "print(title,version)\n",
        "\n",
        "#when program/function/notobook goes out of scope - memory will be clean up\n",
        "#can re-claim memor in pyhon using del keyword\n"
      ],
      "metadata": {
        "colab": {
          "base_uri": "https://localhost:8080/"
        },
        "id": "3sMzEluEZN0b",
        "outputId": "3a9b8626-29ba-4e79-d5ce-684af586b897"
      },
      "execution_count": null,
      "outputs": [
        {
          "output_type": "stream",
          "name": "stdout",
          "text": [
            "Intro to python 3.0\n"
          ]
        }
      ]
    },
    {
      "cell_type": "code",
      "source": [
        "#variable-demo-3.py\n",
        "\n",
        "title = \"Intro to python\" #string variable\n",
        "version = \"3.0\"  #string variable\n",
        "\n",
        "#print(title + verion) #invalid varibele name reference\n",
        "#print(title + version)\n",
        "\n",
        "#concatinating / combining string variable\n",
        "#print(title + \" \" + version)\n",
        "#print(title,version)\n",
        "#print(\"{} {}\".format(title,version))\n",
        "print(f\"{title} {version}\")\n"
      ],
      "metadata": {
        "colab": {
          "base_uri": "https://localhost:8080/"
        },
        "id": "43KnBuLIfdeB",
        "outputId": "bc007d1c-d2b1-49b3-d7a7-05dedb162f26"
      },
      "execution_count": null,
      "outputs": [
        {
          "output_type": "stream",
          "name": "stdout",
          "text": [
            "Intro to python 3.0\n"
          ]
        }
      ]
    },
    {
      "cell_type": "code",
      "source": [
        "#variable-demo-4.py\n",
        "\n",
        "title = \"Intro to python\" #string variable\n",
        "version = \"3.0\"  #string variable\n",
        "\n",
        "#print(title + verion) #invalid varibele name reference\n",
        "#print(title + version)\n",
        "\n",
        "#concatinating / combining string variable\n",
        "#print(title + \" \" + version)\n",
        "#print(title,version)\n",
        "#print(title,version,sep=\"\")\n",
        "print(title,version,sep=\",\")\n",
        "#print(\"{} {}\".format(title,version))\n",
        "#print(f\"{title} {version}\")\n"
      ],
      "metadata": {
        "colab": {
          "base_uri": "https://localhost:8080/"
        },
        "id": "-ZT-f6Qpg5IS",
        "outputId": "da11553d-3114-4b5e-c49c-1cf712062f7c"
      },
      "execution_count": null,
      "outputs": [
        {
          "output_type": "stream",
          "name": "stdout",
          "text": [
            "Intro to python,3.0\n"
          ]
        }
      ]
    },
    {
      "cell_type": "code",
      "source": [
        "#demo3.py\n",
        "#-----------------------------\n",
        "#data types\n",
        "#casting - converting 1 data type to anothre\n",
        "\n",
        "num1 = 5 #integer - non decimal\n",
        "num2 = 10 #integer\n",
        "total = num1 + num2\n",
        "\n",
        "#print(\"total \" + total) #error\n",
        "print(\"total \" + str(total)) #convert/convert int to string\n",
        "#print(\"total\",total,sep=\":\")\n",
        "#print(\"total {}\".format(total))\n",
        "#print(f\"total {total}\")\n",
        "\n"
      ],
      "metadata": {
        "colab": {
          "base_uri": "https://localhost:8080/"
        },
        "id": "awROtAITzUIO",
        "outputId": "3da20d8f-61e2-4725-b1ca-a986efd70361"
      },
      "execution_count": null,
      "outputs": [
        {
          "output_type": "stream",
          "name": "stdout",
          "text": [
            "total 15\n"
          ]
        }
      ]
    }
  ]
}