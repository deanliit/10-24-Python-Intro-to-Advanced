{
  "nbformat": 4,
  "nbformat_minor": 0,
  "metadata": {
    "colab": {
      "provenance": []
    },
    "kernelspec": {
      "name": "python3",
      "display_name": "Python 3"
    },
    "language_info": {
      "name": "python"
    }
  },
  "cells": [
    {
      "cell_type": "markdown",
      "source": [
        "### Demo Colabs Intro 1\n",
        "\n",
        "Intro to Python and Google Colabs Notebook\n",
        "\n",
        "Markdown Text\n",
        "\n",
        "# Title 1\n",
        "\n",
        "### Title 2\n",
        "\n",
        "**Bold** Text\n",
        "\n",
        "*Italic* text\n",
        "\n",
        "Html code\n",
        "\n",
        "<p>\n",
        "\n",
        "List\n",
        "- item 1\n",
        "- item 2\n",
        "  - item a\n",
        "  - item b\n"
      ],
      "metadata": {
        "id": "osNXjZ3mK3ES"
      }
    },
    {
      "cell_type": "code",
      "execution_count": null,
      "metadata": {
        "id": "TqlL6AwOJn5c"
      },
      "outputs": [],
      "source": [
        "#python single line comment\n",
        "\n",
        "\"\"\"\n",
        "python\n",
        "multi line\n",
        "comment's\n",
        "\"\"\"\n",
        "\n",
        "'''\n",
        "python\n",
        "multi line\n",
        "comment\"s\n",
        "'''\n"
      ]
    },
    {
      "cell_type": "code",
      "source": [
        "\n",
        "#cell can access all code above or previous cells\n",
        "#pythn notebook is same as 1 python file\n",
        "\n",
        "#run linux commands with colabs notwbook\n",
        "#list directroy\n",
        "#!ls\n",
        "!ls\n",
        "\n",
        "#bash or shell\n",
        "#%%bash\n",
        "#pwd\n",
        "#ls\n",
        "\n",
        "#%%shell\n",
        "#pwd\n",
        "#ls\n"
      ],
      "metadata": {
        "colab": {
          "base_uri": "https://localhost:8080/"
        },
        "id": "cwNaS4ckQrXc",
        "outputId": "9083a3e9-5cf7-4006-c1c9-e7538193975e"
      },
      "execution_count": 1,
      "outputs": [
        {
          "output_type": "stream",
          "name": "stdout",
          "text": [
            "sample_data\n"
          ]
        }
      ]
    },
    {
      "cell_type": "code",
      "source": [
        "%%bash\n",
        "pwd\n",
        "ls\n"
      ],
      "metadata": {
        "colab": {
          "base_uri": "https://localhost:8080/"
        },
        "id": "Vnwp4eCXVgzG",
        "outputId": "44c6cdea-1f35-461f-dfb8-8e3917be1854"
      },
      "execution_count": 2,
      "outputs": [
        {
          "output_type": "stream",
          "name": "stdout",
          "text": [
            "/content\n",
            "sample_data\n"
          ]
        }
      ]
    },
    {
      "cell_type": "code",
      "source": [
        "#wtrite cell code in other languages\n",
        "%%javascript\n",
        "\n",
        "alert(\"## into to javascript\")\n",
        "console.log(\"## into to javascript\")\n"
      ],
      "metadata": {
        "colab": {
          "base_uri": "https://localhost:8080/",
          "height": 17
        },
        "id": "Tt8lAYiiW4uK",
        "outputId": "60bac6ed-381d-4734-b425-23849fe5be56"
      },
      "execution_count": 3,
      "outputs": [
        {
          "output_type": "display_data",
          "data": {
            "text/plain": [
              "<IPython.core.display.Javascript object>"
            ],
            "application/javascript": [
              "\n",
              "alert(\"into to javascript\")\n"
            ]
          },
          "metadata": {}
        }
      ]
    },
    {
      "cell_type": "code",
      "source": [
        "#wriet cell code in other languages\n",
        "%%html\n",
        "<html>\n",
        "  <body>\n",
        "     <h1>Into to html</h1>\n",
        "  </body>\n",
        "</html>\n"
      ],
      "metadata": {
        "colab": {
          "base_uri": "https://localhost:8080/",
          "height": 74
        },
        "id": "RaAdW4thXIWy",
        "outputId": "274aea0d-57c1-47bc-96ee-5c9dfe03f86e"
      },
      "execution_count": 4,
      "outputs": [
        {
          "output_type": "display_data",
          "data": {
            "text/plain": [
              "<IPython.core.display.HTML object>"
            ],
            "text/html": [
              "<html>\n",
              "  <body>\n",
              "     <h1>Into to html</h1>\n",
              "  </body>\n",
              "</html>\n"
            ]
          },
          "metadata": {}
        }
      ]
    }
  ]
}