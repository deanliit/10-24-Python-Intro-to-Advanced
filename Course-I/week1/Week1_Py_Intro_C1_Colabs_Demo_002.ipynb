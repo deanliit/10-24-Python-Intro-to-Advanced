{
  "nbformat": 4,
  "nbformat_minor": 0,
  "metadata": {
    "colab": {
      "provenance": []
    },
    "kernelspec": {
      "name": "python3",
      "display_name": "Python 3"
    },
    "language_info": {
      "name": "python"
    }
  },
  "cells": [
    {
      "cell_type": "code",
      "execution_count": 1,
      "metadata": {
        "colab": {
          "base_uri": "https://localhost:8080/"
        },
        "id": "RK8suz1TYN_a",
        "outputId": "bf47565f-f822-465b-864d-97e47180ec85"
      },
      "outputs": [
        {
          "output_type": "stream",
          "name": "stdout",
          "text": [
            "Intro to python 3.0\n"
          ]
        }
      ],
      "source": [
        "#python single line comment\n",
        "\n",
        "\"\"\"\n",
        "python mult line\n",
        "comment\n",
        "\"\"\"\n",
        "\n",
        "print(\"Intro to python 3.0\")\n"
      ]
    },
    {
      "cell_type": "code",
      "source": [
        "#display virtual colabs notebook file\n",
        "#!ls\n",
        "\n",
        "!ls\n"
      ],
      "metadata": {
        "colab": {
          "base_uri": "https://localhost:8080/"
        },
        "id": "eoa_3d5Ha76L",
        "outputId": "9ae8778f-b25d-4249-eb2d-394b86dda346"
      },
      "execution_count": 2,
      "outputs": [
        {
          "output_type": "stream",
          "name": "stdout",
          "text": [
            "sample_data\n"
          ]
        }
      ]
    },
    {
      "cell_type": "markdown",
      "source": [
        "Intro to python 3.0\n",
        "\n",
        "Markdown text into\n",
        "\n",
        "# Heading Text\n",
        "\n",
        "**Bold**\n",
        "\n",
        "also add httml code\n",
        "\n",
        "<p>\n",
        "<h1>Html heading text</h1>\n",
        "\n",
        "\n",
        "\n"
      ],
      "metadata": {
        "id": "GJ8_nDhzbiRb"
      }
    }
  ]
}