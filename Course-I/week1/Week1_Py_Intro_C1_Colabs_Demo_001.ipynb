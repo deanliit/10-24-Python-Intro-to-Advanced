{
  "nbformat": 4,
  "nbformat_minor": 0,
  "metadata": {
    "colab": {
      "provenance": []
    },
    "kernelspec": {
      "name": "python3",
      "display_name": "Python 3"
    },
    "language_info": {
      "name": "python"
    }
  },
  "cells": [
    {
      "cell_type": "code",
      "execution_count": 2,
      "metadata": {
        "colab": {
          "base_uri": "https://localhost:8080/"
        },
        "id": "atSx5FOiKPFw",
        "outputId": "c91525ab-d13e-42ed-a022-18378cb59d0a"
      },
      "outputs": [
        {
          "output_type": "stream",
          "name": "stdout",
          "text": [
            "Intro to python 3.0\n"
          ]
        }
      ],
      "source": [
        "#python single line comment\n",
        "\n",
        "print(\"Intro to python 3.0\")\n"
      ]
    },
    {
      "cell_type": "code",
      "source": [
        "# all cells are simplar to 1 python file\n",
        "# ie: variables are access able in cell below\n"
      ],
      "metadata": {
        "id": "rVyS2kEePlig"
      },
      "execution_count": null,
      "outputs": []
    },
    {
      "cell_type": "markdown",
      "source": [
        "Google colbals notebook - ie: Python Jypyter notebooks or Python Notebook\n",
        "\n",
        "Google colabs is free virtual computer - linux os\n",
        "\n",
        "Python notes - Text/Notes are in Markdown format\n",
        "\n",
        "Markdown - simplified version of html\n",
        "\n",
        "Python Notbooks -\n",
        "\n",
        "Python code\n",
        "\n",
        "Notes\n",
        "<p>\n",
        "Code review\n",
        "\n",
        "schedule python code as jobs\n",
        "\n",
        "Pyhon code Unit testing\n",
        "\n",
        "example: copy section of a large code into a notbook and test\n",
        "\n",
        "similar to code review\n",
        "\n"
      ],
      "metadata": {
        "id": "P8xOJPcILU6r"
      }
    }
  ]
}