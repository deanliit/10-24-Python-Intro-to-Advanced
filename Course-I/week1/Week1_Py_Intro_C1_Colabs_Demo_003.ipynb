{
  "nbformat": 4,
  "nbformat_minor": 0,
  "metadata": {
    "colab": {
      "provenance": []
    },
    "kernelspec": {
      "name": "python3",
      "display_name": "Python 3"
    },
    "language_info": {
      "name": "python"
    }
  },
  "cells": [
    {
      "cell_type": "markdown",
      "source": [
        "Intro to Python 3.0\n",
        "\n",
        "Markdown Text Intro\n",
        "\n",
        "# Text Title 1\n",
        "## Text Title 1\n",
        "### Text Title 1\n",
        "\n",
        "**Text bold**\n",
        "\n",
        "Items\n",
        "- item 1\n",
        "- item 2\n",
        "\n",
        "<p>\n",
        "Html code\n"
      ],
      "metadata": {
        "id": "obKtrw26tLPY"
      }
    },
    {
      "cell_type": "code",
      "source": [
        "print(\"python intro 3.0\")"
      ],
      "metadata": {
        "colab": {
          "base_uri": "https://localhost:8080/"
        },
        "id": "IC4ScoQ_oPAP",
        "outputId": "907b4b63-8c32-430b-ed37-3025cf39d5e4"
      },
      "execution_count": null,
      "outputs": [
        {
          "output_type": "stream",
          "name": "stdout",
          "text": [
            "python intro 3.0\n"
          ]
        }
      ]
    },
    {
      "cell_type": "code",
      "source": [
        "# single line comment\n",
        "\n",
        "\"\"\"\n",
        "\n",
        "multi line\n",
        "\n",
        "comment\n",
        "\n",
        "\"\"\"\n"
      ],
      "metadata": {
        "id": "yAD8OTsDvsE8"
      },
      "execution_count": null,
      "outputs": []
    }
  ]
}