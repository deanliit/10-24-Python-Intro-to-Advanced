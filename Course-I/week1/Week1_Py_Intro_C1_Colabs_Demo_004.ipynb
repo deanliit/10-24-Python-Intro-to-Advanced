{
  "nbformat": 4,
  "nbformat_minor": 0,
  "metadata": {
    "colab": {
      "provenance": []
    },
    "kernelspec": {
      "name": "python3",
      "display_name": "Python 3"
    },
    "language_info": {
      "name": "python"
    }
  },
  "cells": [
    {
      "cell_type": "markdown",
      "source": [
        "Intro to python 3.0\n",
        "\n",
        "Markdown text intro\n"
      ],
      "metadata": {
        "id": "-1Quw6MyxFVV"
      }
    },
    {
      "cell_type": "code",
      "source": [
        "\n",
        "print(\"Intro to python 3.0\")\n"
      ],
      "metadata": {
        "colab": {
          "base_uri": "https://localhost:8080/"
        },
        "id": "gEhEmzT6xVoQ",
        "outputId": "ea326e03-26f5-4fee-b355-e7116aa6e131"
      },
      "execution_count": null,
      "outputs": [
        {
          "output_type": "stream",
          "name": "stdout",
          "text": [
            "Intro to python 3.0\n"
          ]
        }
      ]
    },
    {
      "cell_type": "code",
      "source": [
        "#https://www.w3schools.com/python/python_variables.asp\n",
        "\n",
        "x = 5\n",
        "y = \"John\"\n",
        "\n",
        "print(x)\n",
        "print(y)\n"
      ],
      "metadata": {
        "colab": {
          "base_uri": "https://localhost:8080/"
        },
        "id": "_rljEVn7xmNw",
        "outputId": "1dba2f8a-e487-4782-ec69-93f80210353f"
      },
      "execution_count": null,
      "outputs": [
        {
          "output_type": "stream",
          "name": "stdout",
          "text": [
            "5\n",
            "John\n"
          ]
        }
      ]
    }
  ]
}